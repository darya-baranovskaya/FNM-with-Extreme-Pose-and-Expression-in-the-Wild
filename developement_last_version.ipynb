{
 "cells": [
  {
   "cell_type": "code",
   "execution_count": 1,
   "metadata": {},
   "outputs": [],
   "source": [
    "# prerequisites\n",
    "import torch\n",
    "import torch.nn as nn\n",
    "import torch.nn.functional as F\n",
    "import torch.optim as optim\n",
    "import sys\n",
    "from PIL import Image, ImageStat\n",
    "from PIL import __version__\n",
    "from torchvision import datasets, transforms\n",
    "from torch.autograd import Variable\n",
    "from torchvision.utils import save_image\n",
    "import matplotlib.pyplot as plt\n",
    "from torch.utils.data import Dataset\n",
    "from PIL import Image\n",
    "# Device configuration\n",
    "device = torch.device('cuda:0')"
   ]
  },
  {
   "cell_type": "code",
   "execution_count": 2,
   "metadata": {},
   "outputs": [],
   "source": [
    "#from torch.utils.tensorboard import SummaryWriter\n",
    "#writer = SummaryWriter('board/fnm_exp1')\n",
    "\n",
    "#!tensorboard --logdir I:\\tensorboard"
   ]
  },
  {
   "cell_type": "code",
   "execution_count": 3,
   "metadata": {},
   "outputs": [],
   "source": [
    "import os\n",
    "import numpy as np\n",
    "#import tensorflow as tf"
   ]
  },
  {
   "cell_type": "code",
   "execution_count": 4,
   "metadata": {},
   "outputs": [],
   "source": [
    "from math import floor"
   ]
  },
  {
   "cell_type": "code",
   "execution_count": 5,
   "metadata": {},
   "outputs": [],
   "source": [
    "# use_bias = False\n",
    "# front_path = './images/fig1'\n",
    "# profile_path = '.images/fig2'\n",
    "lambda_l1 = 0.001 #'weight of the loss for L1 texture loss') # 0.001\n",
    "lambda_fea=100 #'weight of the loss for face model feature loss')\n",
    "lambda_reg= 1e-5# 'weight of the loss for L2 regularitaion loss')\n",
    "lambda_gan= 1# 'weight of the loss for gan loss')\n",
    "lambda_gp=10# 'weight of the loss for gradient penalty on parameter of D')\n",
    "lambda_mirror = 0.5\n",
    "# For training\n",
    "dataset_size=  1000# 'dataset path')  # casia_aligned_250_250_jpg\n",
    "profile_list=''# 'train profile list')\n",
    "front_path=''#front data path')\n",
    "front_list=''# 'train front list')\n",
    "test_path=''# 'front data path')\n",
    "is_train=True# 'train or test')\n",
    "# is_finetune= False# 'finetune') # False, True\n",
    "# face_mode='resnet50.npy'# 'face model path')\n",
    "# checkpoint='checkpoint/fnm'# 'checkpoint directory')\n",
    "# summary_dir= 'log/fnm'# 'logs directory')\n",
    "# checkpoint_ft='checkpoint/fnm/ck-09'#'finetune or test checkpoint path')\n",
    "batch_size=4# 'batch size')#was 16\n",
    "BS = batch_size\n",
    "epoc=10 # 'epoch')\n",
    "critic= 1 #'number of D training times')\n",
    "# save_freq= 1000 # 'the frequency of saving model')\n",
    "lr=1e-4# 'base learning rate')\n",
    "beta1=0. # 'beta1 momentum term of adam')\n",
    "beta2=0.9 # 'beta2 momentum term of adam')\n",
    "stddev= 0.02 # 'stddev for W initializer')\n",
    "use_bias=False # 'whether to use bias')\n",
    "results='results/fnm' # 'path for saving results') #\n",
    "############################\n",
    "############################\n",
    "#   environment setting    #\n",
    "############################\n",
    "device_id='3,4'# 'device id')\n",
    "ori_height=224 # 'original height of profile images')\n",
    "ori_width=224 # 'original width of profile images')\n",
    "height= 224 #'height of images') # do not modified\n",
    "width= 224 # 'width of images') # do not modified\n",
    "CHANNEL=3 # 'channel of images')\n",
    "num_threads=8 # 'number of threads of enqueueing examples')\n"
   ]
  },
  {
   "cell_type": "code",
   "execution_count": null,
   "metadata": {},
   "outputs": [],
   "source": []
  },
  {
   "cell_type": "markdown",
   "metadata": {},
   "source": [
    "# Resnet50 model trained on VGGFace2 dataset"
   ]
  },
  {
   "cell_type": "code",
   "execution_count": 6,
   "metadata": {},
   "outputs": [],
   "source": [
    "from Resnet50_ft_dag import resnet50_ft_dag\n"
   ]
  },
  {
   "cell_type": "code",
   "execution_count": 7,
   "metadata": {},
   "outputs": [],
   "source": [
    "weights_path= \"./resnet50_ft_dag.pth\"\n",
    "Model = resnet50_ft_dag(weights_path=weights_path).to(device)\n",
    "for p in Model.parameters():\n",
    "        p.require_grad = False"
   ]
  },
  {
   "cell_type": "code",
   "execution_count": 8,
   "metadata": {},
   "outputs": [],
   "source": [
    "#writer = SummaryWriter(\"FNM\", comment = \"19.03.2020\")"
   ]
  },
  {
   "cell_type": "markdown",
   "metadata": {},
   "source": [
    "# Batch normalisation"
   ]
  },
  {
   "cell_type": "code",
   "execution_count": 9,
   "metadata": {},
   "outputs": [],
   "source": [
    "# class Batch_norm(nn.Module):\n",
    "#     def __init__(self, in_channels, epsilon=1e-5, momentum = 0.9, is_train = False):\n",
    "#         super(Batch_norm, self).__init__()\n",
    "#         # self.mean  = mosv_dict['mean']\n",
    "#         self.norm = nn.BatchNorm2d(in_channels, eps = epsilon,  momentum = momentum, track_running_stats = is_train)\n",
    "#         #self.scale = mosv_dict['scale']\n",
    "#         #self.variance = mosv_dict['variance']\n",
    "#         #self.epsilon = 1e-5\n",
    "#     def forward(self, x):\n",
    "#         norm = self.norm(x)\n",
    "#         return norm\n",
    "            \n",
    "    "
   ]
  },
  {
   "cell_type": "code",
   "execution_count": 10,
   "metadata": {},
   "outputs": [],
   "source": [
    "def Batch_norm(in_channels, epsilon=1e-5, momentum = 0.9, is_train = False):\n",
    "    return nn.BatchNorm2d(in_channels, eps = epsilon,  momentum = momentum, track_running_stats = is_train)"
   ]
  },
  {
   "cell_type": "code",
   "execution_count": 11,
   "metadata": {},
   "outputs": [],
   "source": [
    "NORM = Batch_norm"
   ]
  },
  {
   "cell_type": "markdown",
   "metadata": {},
   "source": [
    "# Options: conv2d, res_block "
   ]
  },
  {
   "cell_type": "code",
   "execution_count": 12,
   "metadata": {},
   "outputs": [],
   "source": [
    "def calc_conv_pad(input_size, output_size, filter_size = 3, stride = 2):\n",
    "    return max(0, floor((stride * (output_size - 1) + filter_size - input_size)/2 + 0.5))"
   ]
  },
  {
   "cell_type": "code",
   "execution_count": 13,
   "metadata": {},
   "outputs": [],
   "source": [
    "def calc_deconv_pad(input_size, output_size, filter_size = 3, stride = 2):\n",
    "    return max(0, floor((stride * (input_size - 1) + filter_size - output_size)/2 + 0.5))"
   ]
  },
  {
   "cell_type": "code",
   "execution_count": 14,
   "metadata": {},
   "outputs": [],
   "source": [
    "def conv2d( in_channels , out_channels , kernel_size = 3 , strides = 1  , \n",
    "           padding  =  None,  pad_input = None,\n",
    "           bias = use_bias,dilation_rate = 1, activation = None):\n",
    "    layers = []\n",
    "    if padding == None:\n",
    "        if pad_input is not None:\n",
    "            padding = calc_conv_pad(pad_input , 2*pad_input, kernel_size , strides)\n",
    "        else:\n",
    "            padding = 0\n",
    "    conv = nn.Conv2d( in_channels , out_channels , bias=bias, kernel_size = kernel_size, stride=strides, padding=padding, dilation=dilation_rate )\n",
    "    layers.append( conv )\n",
    "    if activation is not None:\n",
    "        layers.append( activation )\n",
    "    return nn.Sequential( *layers )\n",
    "\n",
    "def deconv2d(in_channels , out_channels , kernel_size = 3 , strides = 1  , \n",
    "             padding  = None, pad_input = None,\n",
    "             bias= use_bias, dilation_rate = 1,\n",
    "            activation = None):\n",
    "    if padding == None:\n",
    "        if pad_input is not None:\n",
    "            padding = calc_deconv_pad(pad_input , 2*pad_input, kernel_size , strides)\n",
    "        else:\n",
    "            padding = 0\n",
    "    layers = [nn.ConvTranspose2d(in_channels, out_channels, kernel_size =  kernel_size, stride=strides, \n",
    "                      padding=padding, bias=bias)]\n",
    "    if activation is not None:\n",
    "        layers.append( activation )\n",
    "    return nn.Sequential( *layers )\n",
    "    "
   ]
  },
  {
   "cell_type": "code",
   "execution_count": 15,
   "metadata": {},
   "outputs": [],
   "source": [
    "class res_block(nn.Module):\n",
    "    def __init__(self,  in_channels , \n",
    "                 out_channels , kernel_size = 3, \n",
    "                 stride = 1  , padding  =  None, pad_input = None,\n",
    "                 bias = use_bias,  norm = NORM, activation2 = nn.ReLU, activation = None,):\n",
    "        super(res_block, self).__init__()\n",
    "        if padding == None:\n",
    "            if pad_input is not None:\n",
    "                padding = calc_conv_pad(pad_input , pad_input, kernel_size , stride)\n",
    "            else: \n",
    "                padding = 0\n",
    "        self.out_channels = out_channels\n",
    "        if activation is not None:\n",
    "            self.activation = activation(out_channels)\n",
    "        else:\n",
    "            self.activation = activation\n",
    "        self.activation2 = activation2(out_channels)\n",
    "        convs = [conv2d(in_channels , out_channels , kernel_size , stride , padding, bias, activation = self.activation), \n",
    "             nn.BatchNorm2d( in_channels ), \n",
    "             nn.ReLU(out_channels), \n",
    "             conv2d(out_channels, out_channels, kernel_size, stride, padding, bias, activation = self.activation),\n",
    "             norm(in_channels)]\n",
    "        self.layers = nn.Sequential(*convs)\n",
    "        #независимо от передаваемого параметра NORM норма всегда Batch_norm\n",
    "    def forward(self, x):\n",
    "        return self.activation2(self.layers(x) + x)"
   ]
  },
  {
   "cell_type": "markdown",
   "metadata": {},
   "source": [
    "# Load data"
   ]
  },
  {
   "cell_type": "code",
   "execution_count": 16,
   "metadata": {},
   "outputs": [],
   "source": [
    "from random import random"
   ]
  },
  {
   "cell_type": "code",
   "execution_count": 17,
   "metadata": {},
   "outputs": [],
   "source": [
    "import glob\n",
    "import shutil\n",
    "\n",
    "profile_set = set()\n",
    "profile_list = []\n",
    "front_set = set()\n",
    "front_list = []\n",
    "frontFile = open(\"./TPdata/train_data/front_list.txt\", \"w\")\n",
    "profileFile = open(\"./TPdata/train_data/profile_list.txt\", \"w\")\n",
    "\n",
    "# def relocate_data(src_dir, src_dir_front, src_dir_profile, variety = 3):\n",
    "#     for jpgfile in glob.iglob(os.path.join(src_dir, \"*.png\")):\n",
    "#         #print(jpgfile);\n",
    "#         #break;\n",
    "#         tmp = jpgfile.split('\\\\')[-1].split('.')[0].split('_')\n",
    "#         ttmp = tmp[0]+ \"_\"+tmp[2]\n",
    "#         if (len(tmp) > 6):\n",
    "#             if ttmp not in profile_set or random()< 3/8:\n",
    "#                 shutil.copy(jpgfile, src_dir_profile)\n",
    "#                 profileFile.write(jpgfile+\"\\n\")\n",
    "#                 #profile_list.append(jpgfile)\n",
    "#                 profile_set.add(ttmp)\n",
    "#         else:\n",
    "#             if ttmp not in front_set or random()< 3/7:\n",
    "#                 shutil.copy(jpgfile, src_dir_front)\n",
    "#                 frontFile.write(jpgfile+\"\\n\")\n",
    "#                 #front_list.append(jpgfile)\n",
    "#                front_set.add(ttmp)\n",
    "def relocate_data(src_dir, src_dir_front, src_dir_profile, variety = 3):\n",
    "    for jpgfile in glob.iglob(os.path.join(src_dir, \"*.jpg\")):\n",
    "        #print(jpgfile); \n",
    "        #break;\n",
    "        tmp = jpgfile.split('\\\\')[-1].split('.')[0].split('_')\n",
    "        ttmp = tmp[0]+ \"_\"+tmp[2]\n",
    "        jpgfile =  jpgfile.split('\\\\')[0]+\"/\" +jpgfile.split('\\\\')[1]\n",
    "        if (len(tmp) == 6):\n",
    "            if ttmp not in front_set or random()< 0.8:\n",
    "            #shutil.copy(jpgfile, src_dir_front)\n",
    "                frontFile.write(jpgfile+\"\\n\")\n",
    "                front_set.add(ttmp)\n",
    "        else:\n",
    "            if ttmp not in profile_set or random()< 1/5:\n",
    "                #shutil.copy(jpgfile, src_dir_profile)\n",
    "                profileFile.write(jpgfile+\"\\n\")\n",
    "                #profile_list.append(jpgfile)\n",
    "                profile_set.add(ttmp)\n",
    "            \n",
    "            \n",
    "black_set = set()\n",
    "def choose_cfp(src_dir, src_dir_front, src_dir_profile):\n",
    "    for i in range(1, 501):\n",
    "        curdir = str(i)\n",
    "        if i<10:\n",
    "            curdir= \"/00\"+curdir\n",
    "        elif i>=10 and i<100:\n",
    "            curdir = \"/0\"+curdir\n",
    "        else:\n",
    "            curdir = \"/\"+curdir\n",
    "        curdirfront = curdir + \"/frontal\"\n",
    "        curdirprofile = curdir + \"/profile\"\n",
    "        a = 0\n",
    "        for jpgfile in glob.iglob(os.path.join(src_dir+curdirfront, \"*.jpg\")):\n",
    "            jpgfile =  jpgfile.split('\\\\')[0]+\"/\" +jpgfile.split('\\\\')[1]\n",
    "#             im = Image.open(jpgfile).convert(\"RGB\")\n",
    "#             stat = ImageStat.Stat(im)\n",
    "#             if sum(stat.sum)/3==stat.sum[0]:\n",
    "#                 print(jpgfile)\n",
    "            if  a==0 and random()< 1/7:\n",
    "                #shutil.copy(jpgfile, src_dir_front)\n",
    "                frontFile.write(jpgfile+\"\\n\")\n",
    "            elif a==1:\n",
    "                #shutil.copy(jpgfile, src_dir_profile)\n",
    "                profileFile.write(jpgfile+\"\\n\")\n",
    "            elif (a < 2) and random()<1/8:\n",
    "                profileFile.write(jpgfile+\"\\n\")\n",
    "            else:\n",
    "                break\n",
    "            a+= 1\n",
    "        a = 0\n",
    "        for jpgfile in glob.iglob(os.path.join(src_dir+curdirprofile, \"*.jpg\")):\n",
    "            jpgfile =  jpgfile.split('\\\\')[0]+\"/\" +jpgfile.split('\\\\')[1]\n",
    "            #im = Image.open(jpgfile).convert(\"RGB\")\n",
    "            #stat = ImageStat.Stat(im)\n",
    "            #if sum(stat.sum)/3==stat.sum[0]:\n",
    "            #    print(jpgfile)\n",
    "            if a<2:\n",
    "                profileFile.write(jpgfile+\"\\n\")\n",
    "            elif (a < 5 and random()<0.6):\n",
    "                profileFile.write(jpgfile+\"\\n\")\n",
    "            else:\n",
    "                break\n",
    "            a += 1\n",
    "        "
   ]
  },
  {
   "cell_type": "code",
   "execution_count": 18,
   "metadata": {},
   "outputs": [],
   "source": [
    "def png_to_jpg(src_dir3):\n",
    "    for jpgfile in glob.iglob(os.path.join(src_dir, \"*.png\")):\n",
    "        name = jpgfile.split('\\\\')[1][:-3]\n",
    "        \n",
    "        jpgfile =  jpgfile.split('\\\\')[0]+\"/\" +jpgfile.split('\\\\')[1]\n",
    "        im = Image.open(jpgfile)\n",
    "        rgb = im.convert('RGB')\n",
    "        rgb.save(name+\"jpg\")\n",
    "       "
   ]
  },
  {
   "cell_type": "code",
   "execution_count": 19,
   "metadata": {},
   "outputs": [],
   "source": [
    "\n",
    "src_dir = \"C:/Users/d.baranovska/Downloads/combined_data\"\n",
    "src_dir_front = \"./TPdata/train_data/front\"\n",
    "src_dir_profile = \"./TPdata/train_data/profile\"\n",
    "cfp_data = \"C:/Users/d.baranovska/Downloads/cfp_data/Images\"\n",
    "relocate_data(src_dir, src_dir_front, src_dir_profile)\n",
    "choose_cfp(cfp_data, src_dir_front, src_dir_profile)\n",
    "frontFile.close()\n",
    "profileFile.close()"
   ]
  },
  {
   "cell_type": "code",
   "execution_count": 20,
   "metadata": {},
   "outputs": [],
   "source": [
    "frontFile = open(\"./TPdata/train_data/front_list.txt\", \"r+\")\n",
    "profileFile = open(\"./TPdata/train_data/profile_list.txt\", \"r+\")\n",
    "#x.split('\\\\')[0]+\"/\" #+x.split('\\\\')[1].strip()\n",
    "front_list = list(map(lambda x: x.strip(), frontFile.readlines()))\n",
    "profile_list = list(map(lambda x: x.strip(),profileFile.readlines()))\n",
    "frontFile.close()\n",
    "profileFile.close()"
   ]
  },
  {
   "cell_type": "code",
   "execution_count": 21,
   "metadata": {},
   "outputs": [],
   "source": [
    "#front_list[0].strip('\\\\')"
   ]
  },
  {
   "cell_type": "code",
   "execution_count": 22,
   "metadata": {},
   "outputs": [
    {
     "name": "stdout",
     "output_type": "stream",
     "text": [
      "2018\n",
      "2243\n"
     ]
    }
   ],
   "source": [
    "print(len(front_list))\n",
    "print(len(profile_list))"
   ]
  },
  {
   "cell_type": "code",
   "execution_count": 23,
   "metadata": {},
   "outputs": [],
   "source": [
    "PIC_SIZE = (224, 224)\n",
    "class TrainDataset(Dataset):\n",
    "    def __init__(self, img_list):\n",
    "        super(type(self), self).__init__()\n",
    "        self.img_list = img_list\n",
    "    def __len__(self):\n",
    "        return len(self.img_list)\n",
    "    def __getitem__(self, idx):\n",
    "        #229_01_01_200_08_cropped_test.png\n",
    "        img_name = self.img_list[idx]\n",
    "        with Image.open(img_name) as i:\n",
    "            width, height = i.size\n",
    "            if width != height:\n",
    "                sz = min(width, height)\n",
    "                left = (width - sz)/2\n",
    "                right = (width + sz)/2\n",
    "                top = (height - sz)/2\n",
    "                bottom = (height + sz)/2\n",
    "                i = i.crop((left, top, right, bottom))\n",
    "            im = i.resize(PIC_SIZE)\n",
    "            im = transforms.RandomHorizontalFlip()(im)\n",
    "            our_tensor = transforms.ToTensor()(im)\n",
    "            #print(our_tensor.size(), self.img_list[idx])\n",
    "        return our_tensor"
   ]
  },
  {
   "cell_type": "code",
   "execution_count": 24,
   "metadata": {},
   "outputs": [],
   "source": [
    "# #Test set\n",
    "\n",
    "# test_list = []\n",
    "# src_test_data = \"C:/Users/d.baranovska/Git/FNM-with-Extreme-Pose-and-Expression-in-the-Wild/TPdata/test_data\"\n",
    "# for x in glob.iglob(os.path.join(src_test_data+\"/test\", \"*.jpg\")):\n",
    "#     jpgfile = x.split('\\\\')[0]+\"/\" +x.split('\\\\')[1].strip()\n",
    "#     test_list.append(jpgfile)\n",
    "# Test_data = TrainDataset(test_list)\n",
    "# test_loader = torch.utils.data.DataLoader(dataset=Test_data, batch_size=BS, shuffle=True, drop_last=True)\n",
    "# enumerate_test = list(enumerate(test_loader))\n",
    "# for j in range(len(enumerate_test)):\n",
    "#         enumerate_test[j] = (j, torch.autograd.Variable(enumerate_test[j][1].to(device), requires_grad = False))\n",
    "   "
   ]
  },
  {
   "cell_type": "markdown",
   "metadata": {},
   "source": [
    "# Generator "
   ]
  },
  {
   "cell_type": "code",
   "execution_count": 25,
   "metadata": {},
   "outputs": [],
   "source": [
    "f7_shape = [7, 7, 2048]"
   ]
  },
  {
   "cell_type": "markdown",
   "metadata": {},
   "source": [
    "#### second variant"
   ]
  },
  {
   "cell_type": "code",
   "execution_count": 26,
   "metadata": {},
   "outputs": [],
   "source": [
    "class Generator(nn.Module):\n",
    "    def __init__(self): #, profile, front, train):\n",
    "        super(Generator, self).__init__() \n",
    "       \n",
    "        self.conv1 = nn.Sequential(conv2d(2048, 512, kernel_size=1, strides = 1), NORM(512, is_train), nn.ReLU())\n",
    "    \n",
    "        self.res1_1 = res_block(512, 512, norm = NORM, pad_input = 7)\n",
    "        self.res1_2 = res_block(512, 512, norm = NORM, pad_input = 7)\n",
    "        self.res1_3 = res_block(512, 512, norm = NORM, pad_input = 7)\n",
    "        self.res1_4 = res_block(512, 512, norm = NORM, pad_input = 7)\n",
    "        self.dconv2 = nn.Sequential(deconv2d(512, 256, kernel_size=4, strides = 2, pad_input = 7), NORM(256), nn.ReLU())\n",
    "        self.res2 = res_block(256, 256, norm = NORM, pad_input = 14)\n",
    "        self.dconv3 = nn.Sequential(deconv2d(256, 128, kernel_size=4, strides = 2, pad_input = 14) , NORM(128), nn.ReLU())\n",
    "        self.res3 = res_block(128, 128, norm = NORM, pad_input = 28)\n",
    "        self.dconv4 = nn.Sequential(deconv2d(128, 64, kernel_size=4, strides = 2, pad_input = 28), NORM(64), nn.ReLU())\n",
    "        self.res4 = res_block(64, 64, norm = NORM, pad_input = 56)\n",
    "        self.dconv5 = nn.Sequential(deconv2d(64, 32, kernel_size=4, strides = 2, pad_input = 56), NORM(32), nn.ReLU())\n",
    "        self.res5 = res_block(32, 32, norm = NORM, pad_input = 112)\n",
    "        self.dconv6 = nn.Sequential(deconv2d(32, 32, kernel_size=4, strides = 2, pad_input =112),  NORM(32), nn.ReLU())\n",
    "        self.res6 = res_block(32, 32, norm = NORM,  pad_input = 224)\n",
    "        self.gen = nn.Sequential(conv2d(32, 3,  kernel_size=1, strides = 1), nn.Tanh())\n",
    "        \n",
    "    def forward(self, feature):\n",
    "        featt7 = feature[0]\n",
    "        feat7 = self.conv1(featt7)\n",
    "        pool5 = feature[1]\n",
    "        res1_1 = self.res1_1(feat7)\n",
    "        res1_2 = self.res1_2(res1_1)\n",
    "        res1_3 = self.res1_3(res1_2)\n",
    "        res1_4 = self.res1_2(res1_3)\n",
    "        dconv2 = self.dconv2(res1_4)\n",
    "        res2 = self.res2(dconv2)\n",
    "        dconv3 = self.dconv3(res2)\n",
    "        res3 = self.res3(dconv3)\n",
    "        dconv4 = self.dconv4(res3)\n",
    "        res4 = self.res4(dconv4)\n",
    "        dconv5 = self.dconv5(res4)\n",
    "        res5 = self.res5(dconv5)\n",
    "        dconv6 = self.dconv6(res5)\n",
    "        res6 = self.res6(dconv6)\n",
    "        gen = self.gen(res6)\n",
    "        return gen"
   ]
  },
  {
   "cell_type": "code",
   "execution_count": 27,
   "metadata": {},
   "outputs": [],
   "source": [
    "class Discriminator(nn.Module):\n",
    "    def __init__(self):\n",
    "        super(Discriminator, self).__init__()\n",
    "        pad = 1\n",
    "        self.h0_0 = nn.Sequential(conv2d(3, 32, kernel_size=3, strides=2, padding = pad), nn.LeakyReLU())\n",
    "        self.h0_1 = nn.Sequential(conv2d(32, 64, kernel_size=3, strides=2, padding = pad), NORM(64), nn.LeakyReLU())\n",
    "        self.h0_2 = nn.Sequential(conv2d(64, 128, kernel_size=3, strides=2, padding = pad), NORM(128), nn.LeakyReLU())\n",
    "        self.h0_3 = nn.Sequential(conv2d(128, 256, kernel_size=3, strides=2, padding = pad), NORM(256), nn.LeakyReLU())\n",
    "        self.h0_4 = nn.Sequential(conv2d(256, 256, kernel_size=3, strides=2, padding = pad), NORM(256), nn.LeakyReLU())\n",
    "        self.h0_5 = nn.Linear(12544, 1)\n",
    "        \n",
    "        self.h1_0 = nn.Sequential(conv2d(3, 32, kernel_size=3, strides=2, padding = pad), nn.LeakyReLU())\n",
    "        self.h1_1 = nn.Sequential(conv2d(32, 64, kernel_size=3, strides=2, padding = pad), NORM(64), nn.LeakyReLU())\n",
    "        self.h1_2 = nn.Sequential(conv2d(64, 128, kernel_size=3, strides=2, padding = pad), NORM(128), nn.LeakyReLU())\n",
    "        self.h1_3 = nn.Sequential(conv2d(128, 256, kernel_size=3, strides=2, padding = pad), NORM(256), nn.LeakyReLU())\n",
    "        self.h1_4 = nn.Linear(6144, 1)\n",
    "        \n",
    "        self.h2_0 = nn.Sequential(conv2d(3, 32, kernel_size=3, strides=2, padding = pad), nn.LeakyReLU())\n",
    "        self.h2_1 = nn.Sequential(conv2d(32, 64, kernel_size=3, strides=2, padding = pad), NORM(64), nn.LeakyReLU())\n",
    "        self.h2_2 = nn.Sequential(conv2d(64, 128, kernel_size=3, strides=2, padding = pad), NORM(128), nn.LeakyReLU())\n",
    "        self.h2_3 = nn.Sequential(conv2d(128, 256, kernel_size=3, strides=2, padding = pad), NORM(256), nn.LeakyReLU())\n",
    "        #self.h2_4 = nn.Linear(self.h2_3.out_features, 1)\n",
    "        self.h2_4 = nn.Linear(3840, 1)\n",
    "        \n",
    "        self.h3_0 = nn.Sequential(conv2d(3, 32, kernel_size=3, strides=2, padding = pad), nn.LeakyReLU())\n",
    "        self.h3_1 = nn.Sequential(conv2d(32, 64, kernel_size=3, strides=2, padding = pad), NORM(64), nn.LeakyReLU())\n",
    "        self.h3_2 = nn.Sequential(conv2d(64, 128, kernel_size=3, strides=2, padding = pad), NORM(128), nn.LeakyReLU())\n",
    "        self.h3_3 = nn.Sequential(conv2d(128, 256, kernel_size=3, strides=2, padding = pad), NORM(256), nn.LeakyReLU())\n",
    "        self.h3_4 = nn.Linear(2560, 1)\n",
    "        \n",
    "        self.h4_0 = nn.Sequential(conv2d(3, 32, kernel_size=3, strides=2, padding = pad), nn.LeakyReLU())\n",
    "        self.h4_1 = nn.Sequential(conv2d(32, 64, kernel_size=3, strides=2, padding = pad), NORM(64), nn.LeakyReLU())\n",
    "        self.h4_2 = nn.Sequential(conv2d(64, 128, kernel_size=3, strides=2, padding = pad), NORM(128), nn.LeakyReLU())\n",
    "        self.h4_3 = nn.Sequential(conv2d(128, 256, kernel_size=3, strides=2, padding = pad), NORM(256), nn.LeakyReLU())\n",
    "        self.h4_4 = nn.Linear(16384, 1)\n",
    "    \n",
    "    \n",
    "    def forward(self, images):\n",
    "        eyes = images[0:BS,0:CHANNEL,64:100,50:174] #[BS,36,124,CHANNEL])\n",
    "        nose =  images[0:BS,0:CHANNEL,75:140,90:134]#tf.slice(images, [0,75,90,0], [BS,65,44,CHANNEL])\n",
    "        mouth = images[0:BS,0:CHANNEL,140:170,75:149]#tf.slice(images, [0,140,75,0], [BS,30,74,CHANNEL])\n",
    "        face = images[0:BS,0:CHANNEL,64:180,50:174]#[BS,116,124,CHANNEL])\n",
    "        h0_0 = self.h0_0(images)\n",
    "        h0_1 = self.h0_1(h0_0)\n",
    "        h0_2 = self.h0_2(h0_1)\n",
    "        h0_3 = self.h0_3(h0_2)\n",
    "        h0_4 = self.h0_4(h0_3)\n",
    "        h0_5 = self.h0_5(torch.reshape(h0_4, [BS, -1]))\n",
    "        \n",
    "        h1_0 = self.h1_0(eyes)\n",
    "        h1_1 = self.h1_1(h1_0)\n",
    "        h1_2 = self.h1_2(h1_1)\n",
    "        h1_3 = self.h1_3(h1_2)\n",
    "        h1_4 = self.h1_4(torch.reshape(h1_3, [BS, -1]))\n",
    "        \n",
    "        h2_0 = self.h2_0(nose)\n",
    "        h2_1 = self.h2_1(h2_0)\n",
    "        h2_2 = self.h2_2(h2_1)\n",
    "        h2_3 = self.h2_3(h2_2)\n",
    "        h2_4 = self.h2_4(torch.reshape(h2_3, [BS, -1]))\n",
    "        \n",
    "        h3_0 = self.h3_0(mouth)\n",
    "        h3_1 = self.h3_1(h3_0)\n",
    "        h3_2 = self.h3_2(h3_1)\n",
    "        h3_3 = self.h3_3(h3_2)\n",
    "        h3_4 = self.h3_4(torch.reshape(h3_3, [BS, -1]))\n",
    "        \n",
    "        h4_0 = self.h4_0(face)\n",
    "        h4_1 = self.h4_1(h4_0)\n",
    "        h4_2 = self.h4_2(h4_1)\n",
    "        h4_3 = self.h4_3(h4_2)\n",
    "        h4_4 = self.h4_4(torch.reshape(h4_3, [BS, -1]))\n",
    "        return torch.cat((h0_5, h1_4, h2_4, h3_4, h4_4))"
   ]
  },
  {
   "cell_type": "markdown",
   "metadata": {},
   "source": [
    "# G and D"
   ]
  },
  {
   "cell_type": "code",
   "execution_count": 28,
   "metadata": {},
   "outputs": [],
   "source": [
    "#built network\n",
    "#z_dim = 224*224\n",
    "#mnist_dim = 224*224\n",
    "#mnist_dim = train_dataset_front.train_data.size(1) * train_dataset.train_data.size(2)\n",
    "\n",
    "G = Generator().to(device)\n",
    "D = Discriminator().to(device)"
   ]
  },
  {
   "cell_type": "code",
   "execution_count": 29,
   "metadata": {},
   "outputs": [],
   "source": [
    "#print(torch.__version__)"
   ]
  },
  {
   "cell_type": "code",
   "execution_count": 30,
   "metadata": {},
   "outputs": [],
   "source": [
    "criterion = nn.MSELoss(reduction='mean')\n",
    "\n",
    "# optimizer\n",
    "lr = 1e-4 \n",
    "G_optimizer = optim.Adam(G.parameters(), lr,betas=(beta1, beta2), weight_decay=1e-5)\n",
    "D_optimizer = optim.Adam(D.parameters(), lr, betas=(beta1, beta2), weight_decay=1e-5)\n"
   ]
  },
  {
   "cell_type": "markdown",
   "metadata": {},
   "source": [
    "# Loss functions"
   ]
  },
  {
   "cell_type": "code",
   "execution_count": 31,
   "metadata": {},
   "outputs": [],
   "source": [
    "# Losses = []\n",
    "# D_finalLosses, G_finalLosses = [], []"
   ]
  },
  {
   "cell_type": "code",
   "execution_count": 32,
   "metadata": {},
   "outputs": [],
   "source": [
    "# def reverse(x, dim):\n",
    "#     dim = x.dim() + dim if dim < 0 else dim\n",
    "#     return x[tuple(slice(None, None) if i != dim\n",
    "#              else torch.arange(x.size(i)-1, -1, -1).long()\n",
    "#              for i in range(x.dim()))]"
   ]
  },
  {
   "cell_type": "code",
   "execution_count": 33,
   "metadata": {},
   "outputs": [],
   "source": [
    "epsilon = 1e-9"
   ]
  },
  {
   "cell_type": "code",
   "execution_count": 34,
   "metadata": {},
   "outputs": [],
   "source": [
    "global a \n",
    "a = 0\n",
    "global epoch_num\n",
    "epoch_num = 0"
   ]
  },
  {
   "cell_type": "code",
   "execution_count": 35,
   "metadata": {},
   "outputs": [],
   "source": [
    "\n",
    "#print(\"Gen.gen parametrs\", torch.sum(i(*G.parameters())).item())"
   ]
  },
  {
   "cell_type": "code",
   "execution_count": 36,
   "metadata": {},
   "outputs": [],
   "source": [
    "def loss(epoch, profile, front):\n",
    "    #=======================Train the generator=======================#\n",
    "    G_optimizer.zero_grad()\n",
    "    D_optimizer.zero_grad()\n",
    "    Model.eval()\n",
    "    for p in Model.parameters():\n",
    "        p.require_grad = False\n",
    "    feature_p = Model.forward(profile) # G_enc(x)\n",
    "    feature_f = Model.forward(front) # G_enc(y)\n",
    "#     feature_p = [i for i in feature_p]\n",
    "#     feature_f = [i for i in feature_f]\n",
    "#     for i in feature_p:\n",
    "#         i = i.to(device)\n",
    "#     for i in feature_f:\n",
    "#         i = i.to(device)\n",
    "    gen_p = G.forward(feature_p) # ~x\n",
    "    gen_f = G.forward(feature_f) # ~y\n",
    "    if a % 200 == 0:\n",
    "#        test_pic = Model(enumerate_test[0][1])\n",
    "#         gen_test = G(test_pic)\n",
    "#         save_image(gen_test, src_test_data+\"/result/\"+str(epoch)+\"_\"+str(a)+\"_\"+\".png\")\n",
    "\n",
    "    \n",
    "    \n",
    "        print('')\n",
    "        print(a, epoch)\n",
    "        print(\"gen_p 0 - 1\", torch.sum(gen_p[0] -  gen_p[1]))\n",
    "        print(\"front 0 - 1\", torch.sum(front[0] -  front[1]))\n",
    "        #print(\"Model conv5_3_3x3 sum =\", torch.sum(*Model.conv5_3_3x3.parameters()).item())\n",
    "        #print(\"Gen.dconv6 parameters sum\", torch.sum(*G.dconv6.parameters()).item())\n",
    "        print(\"Gen.gen params sum\", torch.sum(*G.gen.parameters()).item())\n",
    "        #print(\"Dis.h0_5 params sum\", torch.sum(*D.h0_5.parameters()).item())\n",
    "        #save_image(feature_p[0].int(), \"./TPdata/train_data/processed/\" + str(a)+ \"_feature_p\" + \".png\")\n",
    "        save_image(profile, \"I:/train_data/processed/epoch\" + str(epoch_num)+\"_\"+ str(a)+\"_profile\" + \".png\")\n",
    "        save_image(gen_f, \"I:/train_data/processed/epoch\" + str(epoch_num)+ \"_\"+str(a)+ \"_gen_f_all\" + \".png\")\n",
    "        save_image(gen_p, \"I:/train_data/processed/epoch\" +str(epoch_num)+ \"_\"+str(a)+  \"_gen_p_\" + \".png\")\n",
    "    #for i in gen_p: writer.add_image('~x - gen_p', i)\n",
    "    #for i in gen_f: writer.add_image('~y - gen_f', i)\n",
    "#     dr = torch.cat(D(front))\n",
    "#     df1 = torch.cat(D(gen_p))\n",
    "#     df2 = torch.cat(D(gen_f))\n",
    "    dr = D(front)\n",
    "    df1 = D(gen_p)\n",
    "    df2 = D(gen_f)\n",
    "    feature_gen_p = Model.forward(gen_p) #G_enc(~x)\n",
    "    feature_gen_f = Model.forward(gen_f) #G_enc(~y)\n",
    "    \n",
    "    pool5_p_norm = feature_p[-1]/(torch.norm(feature_p[-1],dim = 1, keepdim = True) + epsilon)\n",
    "    pool5_f_norm = feature_f[-1]/(torch.norm(feature_f[-1],dim = 1, keepdim = True) + epsilon)\n",
    "    \n",
    "    pool5_gen_p_norm = feature_gen_p[-1]/(torch.norm(feature_gen_p[-1],dim = 1, keepdim = True) + epsilon)\n",
    "    pool5_gen_f_norm = feature_gen_f[-1]/(torch.norm(feature_gen_f[-1],dim = 1, keepdim = True) + epsilon)\n",
    "    \n",
    "     # 1. Frontalization Loss: L1-Norm\n",
    "    front_loss = torch.mean(torch.sum(torch.abs(front/255. - gen_f/255.), [1,2,3]))\n",
    "    \n",
    "    # 2. identity perseption loss l2-norm\n",
    "    feature_distance = 0.5*(1 - torch.sum(torch.mul(pool5_p_norm, pool5_gen_p_norm), [1])) + \\\n",
    "                                0.5*(1 - torch.sum(torch.mul(pool5_f_norm, pool5_gen_f_norm), [1]))\n",
    "    feature_loss = torch.mean(feature_distance)\n",
    "    #Losses.append(feature_loss.item())\n",
    "    #.\n",
    "    #trainable var\n",
    "    #all_vars = torch.autograd.Variables()\n",
    "    #vars_gen = Variable(G.parameters, requires_grad= True)\n",
    "    #vars_dis = Variable(D.parameters, requires_grad= True)\n",
    "    #vars_gen = weights_list=[var for var in self.vars_gen if 'kernel' in var.name]\n",
    "    \n",
    "    \n",
    "    # 3. Regulation loss\n",
    "    #reg_gen = 0.5*criterion(gen_p, profile)+ 0.5*criterion(gen_p, front)\n",
    "    #reg_gen = criterion(gen_p, profile)*0.9991 + criterion(gen_p, front)* 0.0009\n",
    "    #reg_dis = criterion(gen_f, front)\n",
    "    #reg_gen =  torch.optim.SGD(G.parameters(), lr = lambda_reg)\n",
    "    #reg_dis =  torch.optim.SGD(D.parameters(), lr = lambda_reg)\n",
    "#     loss = nn.MSELoss(lambda_reg, reduction='mean')\n",
    "#     #reg_gen = loss(weights_list=[var for var in vars_gen]) # if 'kernel' in var.name\n",
    "#     #reg_dis = loss(weights_list=[var for var in vars_dis])# if 'kernel' in var.name\n",
    "#     target = torch.zeros(G.parameters.shape)\n",
    "#     reg_gen = loss(G.parameters, target)\n",
    "#     reg_dis = loss(D.parameters, target)\n",
    "#     G_losses.append(reg_gen)\n",
    "#     D_losses.append(reg_dis)\n",
    "    \n",
    "    \n",
    "    # 4. Adversarial Loss\n",
    "    #d_loss = torch.mean(torch.sum(df1)*0.9 + torch.sum(df2)*0.1 - torch.sum(dr)) / 5\n",
    "    #g_loss = -torch.mean(torch.sum(df1)*0.9 + torch.sum(df2)*0.1) / 5\n",
    "    d_loss = torch.mean(torch.sum(df1)*0.5 + torch.sum(df2)*0.5 - torch.sum(dr)) / 5\n",
    "    g_loss = -torch.mean(torch.sum(df1)*0.5 + torch.sum(df2)*0.5) / 5\n",
    "    \n",
    "    \n",
    "    #D_losses.append(d_loss.item())\n",
    "    #G_losses.append(g_loss.item())\n",
    "    \n",
    "    # 5. Symmetric Loss - not applied\n",
    "#     mirror_p = torch.flip(gen_p, dims=[3])\n",
    "#     sym_loss = torch.mean(torch.sum(torch.abs(mirror_p/225. - gen_p/255.), [1,2,3]))\n",
    "    \n",
    "    # Gradient Penalty #\n",
    "#     alpha = torch.rand([front.size(0), 1, 1, 1]).to(device)\n",
    "#     inter = (alpha*front + ((1 - alpha) * gen_p )).requires_grad_(True).to(device)\n",
    "#     d = D(inter)\n",
    "#     fake = Variable(torch.Tensor(BS*5, 1).fill_(1.0), requires_grad=False).to(device)\n",
    "#     grad = torch.autograd.grad(d, inter, grad_outputs=fake,\n",
    "#     retain_graph=True,\n",
    "#     create_graph=False,\n",
    "#     only_inputs=True,)[0]\n",
    "#     #grad = d.grad\n",
    "#     grad = grad.view(grad.size(0), -1)\n",
    "#     gradient_penalty = ((grad.norm(2, dim=1)-1)**2).mean()\n",
    "      \n",
    "     # 6. Drift Loss - not applied\n",
    "    #drift_loss = 0\n",
    "    #torch.mean(torch.add(torch.square(df)) + torch.add(torch.square(dr))) / 10\n",
    "    \n",
    "    \n",
    "    \n",
    "    Gen_loss = lambda_l1*front_loss + lambda_fea*feature_loss +(lambda_gan)*g_loss# + reg_gen#+ 0.0009*sym_loss #\n",
    "    #if epoch %17 ==0:\n",
    "     #   Gen_loss += 0.001*sym_loss\n",
    "    Dis_loss = lambda_gan* d_loss #+ reg_dis#+lambda_gp*gradient_penalty# + torch.tensor(lambda_gp) * gradient_penalty\n",
    "   \n",
    "    \n",
    "    #Gen_loss = Gen_loss.to(device)\n",
    "    #Dis_loss = Gen_loss.to(device)\n",
    "    #G_finalLosses.append(Gen_loss.item())\n",
    "    #D_finalLosses.append(Dis_loss.item())\n",
    "#     Gen_loss.backward()\n",
    "#     Dis_loss.backward()\n",
    "    \n",
    "    (Gen_loss + Dis_loss).backward()\n",
    "    \n",
    "\n",
    "    \n",
    "    G_optimizer.step()\n",
    "    D_optimizer.step()\n",
    "    G_optimizer.zero_grad()\n",
    "    D_optimizer.zero_grad()\n",
    "#     if a < 30:\n",
    "#         writer.add_scalar('Gen_loss', Gen_loss , epoch_num*30 + a)\n",
    "#         writer.add_scalar('Dis_loss', Dis_loss , epoch_num*30 + a)\n",
    "#         writer.add_scalar('front_loss',  front_loss , epoch_num*30 + a)\n",
    "#         writer.add_scalar('feature_loss',  feature_loss , epoch_num*30 + a)\n",
    "#         writer.add_scalar('g_loss',  g_loss , epoch_num*30 + a)\n",
    "#         writer.add_scalar('d_loss',  d_loss , epoch_num*30 + a)\n",
    "#         writer.add_scalar(' gradient_penalty',gradient_penalty, epoch_num*30 + a )\n",
    "#         writer.add_image('gen_p', gen_p[0], epoch_num*100 + a )\n",
    "#         writer.add_image('gen_f', gen_f[0], epoch_num*100 + a)\n",
    "#         writer.add_image('front',  front[0], epoch_num*100 + a)\n",
    "#         writer.add_image('profile',  profile[0], epoch_num*100 + a)\n",
    "#         writer.add_image('gen_p', gen_p[1], epoch_num*100 + a)\n",
    "#         writer.add_image('gen_f',  gen_f[1], epoch_num*100 + a)\n",
    "#         writer.add_image('front', front[1], epoch_num*100 + a)\n",
    "#         writer.add_image('profile',  profile[1], epoch_num*100 + a)\n",
    "#         writer.add_image('gen_p', gen_p[2], epoch_num*100 + a)\n",
    "#         writer.add_image('gen_f', gen_f[2], epoch_num*100 + a)\n",
    "#         writer.add_image('front', front[2], epoch_num*100 + a)\n",
    "#         writer.add_image('profile',  profile[2], epoch_num*100 + a)\n",
    "\n",
    "    \n",
    "    return Gen_loss,  Dis_loss, front_loss, feature_loss, g_loss, d_loss #, sym_loss#, reg_gen,reg_dis\n",
    "    \n",
    "#     z = Variable(torch.randn(bs, z_dim).to(device))\n",
    "#     y = Variable(torch.ones(bs, 1).to(device))\n",
    "\n",
    "#     G_output = G(z)\n",
    "#     D_output = D(G_output)\n",
    "#     G_loss = criterion(D_output, y)\n",
    "\n",
    "#     # gradient backprop & optimize ONLY G's parameters\n",
    "#     G_loss.backward()\n",
    "#     G_optimizer.step()\n",
    "        \n",
    "#     return G_loss.data.item()"
   ]
  },
  {
   "cell_type": "code",
   "execution_count": 37,
   "metadata": {},
   "outputs": [
    {
     "data": {
      "text/plain": [
       "24322144"
      ]
     },
     "execution_count": 37,
     "metadata": {},
     "output_type": "execute_result"
    }
   ],
   "source": [
    "sum(p.numel() for p in G.parameters() if p.requires_grad)\n"
   ]
  },
  {
   "cell_type": "code",
   "execution_count": 38,
   "metadata": {},
   "outputs": [],
   "source": [
    "# Model conv5_3_3x3 sum = -1227.2626953125"
   ]
  },
  {
   "cell_type": "markdown",
   "metadata": {},
   "source": [
    "# Main"
   ]
  },
  {
   "cell_type": "code",
   "execution_count": 39,
   "metadata": {},
   "outputs": [],
   "source": [
    "# x = torch.rand([BS, 3, 224, 224])\n",
    "# y = torch.rand([BS, 3, 224, 224])\n",
    "# t = Model(x.to(device))\n",
    "# x_gen = G(t)\n",
    "# #reg_gen = criterion(x_gen, x)\n",
    "# #print(reg_gen)\n",
    "# print(x_gen.size())\n",
    "# print(\"Model conv5_3_3x3 sum =\", torch.sum(*Model.conv5_3_3x3.parameters()).item())"
   ]
  },
  {
   "cell_type": "code",
   "execution_count": 40,
   "metadata": {},
   "outputs": [],
   "source": [
    "# x_dis = D(x_gen)\n",
    "# print(x_dis[0].size(), x_dis[1].size(), x_dis[2].size(), x_dis[3].size(), x_dis[4].size())"
   ]
  },
  {
   "cell_type": "code",
   "execution_count": 41,
   "metadata": {},
   "outputs": [],
   "source": [
    "Train_front_data = TrainDataset(front_list)\n",
    "Train_profile_data = TrainDataset(profile_list)"
   ]
  },
  {
   "cell_type": "code",
   "execution_count": 42,
   "metadata": {},
   "outputs": [],
   "source": [
    "train_loader_front = torch.utils.data.DataLoader(dataset=Train_front_data, batch_size=BS, shuffle=True, drop_last=True, num_workers = 0)\n",
    "train_loader_profile = torch.utils.data.DataLoader(dataset=Train_profile_data, batch_size=BS, shuffle=True, drop_last=True, num_workers = 0)\n",
    "#test_loader = torch.utils.data.DataLoader(dataset=Test_dataset, batch_size=bs, shuffle=False)"
   ]
  },
  {
   "cell_type": "code",
   "execution_count": 43,
   "metadata": {},
   "outputs": [
    {
     "name": "stdout",
     "output_type": "stream",
     "text": [
      "torch.Size([4, 3, 224, 224])\n"
     ]
    }
   ],
   "source": [
    "d = list(enumerate(train_loader_front))\n",
    "print(d[3][1].size())"
   ]
  },
  {
   "cell_type": "code",
   "execution_count": 44,
   "metadata": {},
   "outputs": [
    {
     "data": {
      "text/plain": [
       "'C:/Users/d'"
      ]
     },
     "execution_count": 44,
     "metadata": {},
     "output_type": "execute_result"
    }
   ],
   "source": [
    "(profile_list[0].split('\\\\')[-1].split('.')[0])"
   ]
  },
  {
   "cell_type": "code",
   "execution_count": null,
   "metadata": {
    "scrolled": true
   },
   "outputs": [
    {
     "name": "stdout",
     "output_type": "stream",
     "text": [
      "\n",
      "0 1\n",
      "gen_p 0 - 1 tensor(-175.7921, device='cuda:0', grad_fn=<SumBackward0>)\n",
      "front 0 - 1 tensor(21170.3301, device='cuda:0')\n",
      "Gen.gen params sum 0.3989993929862976\n",
      "\n",
      "200 1\n",
      "gen_p 0 - 1 tensor(-248.3670, device='cuda:0', grad_fn=<SumBackward0>)\n",
      "front 0 - 1 tensor(-9818.1055, device='cuda:0')\n",
      "Gen.gen params sum 1.0582157373428345\n",
      "\n",
      "400 1\n",
      "gen_p 0 - 1 tensor(5074.8027, device='cuda:0', grad_fn=<SumBackward0>)\n",
      "front 0 - 1 tensor(1761.2825, device='cuda:0')\n",
      "Gen.gen params sum 1.1011157035827637\n",
      "[1/300]: loss_d: -888.802, loss_g: -3.181,          front_loss: 106.026, feature_loss: 0.000, g_loss: -888.914, d_loss: -3.181\n",
      "\n",
      "0 2\n",
      "gen_p 0 - 1 tensor(-7005.6797, device='cuda:0', grad_fn=<SumBackward0>)\n",
      "front 0 - 1 tensor(3937.1768, device='cuda:0')\n",
      "Gen.gen params sum 1.123945951461792\n",
      "\n",
      "200 2\n",
      "gen_p 0 - 1 tensor(-9534.2910, device='cuda:0', grad_fn=<SumBackward0>)\n",
      "front 0 - 1 tensor(-13499.1836, device='cuda:0')\n",
      "Gen.gen params sum 1.1753228902816772\n",
      "\n",
      "400 2\n",
      "gen_p 0 - 1 tensor(-16732.2852, device='cuda:0', grad_fn=<SumBackward0>)\n",
      "front 0 - 1 tensor(23789.4785, device='cuda:0')\n",
      "Gen.gen params sum 1.190722107887268\n",
      "[2/300]: loss_d: -1394.815, loss_g: 1.385,          front_loss: 61.781, feature_loss: 0.000, g_loss: -1900.893, d_loss: 5.950\n",
      "\n",
      "0 3\n",
      "gen_p 0 - 1 tensor(3308.0786, device='cuda:0', grad_fn=<SumBackward0>)\n",
      "front 0 - 1 tensor(4368.8115, device='cuda:0')\n",
      "Gen.gen params sum 1.1873615980148315\n",
      "\n",
      "200 3\n",
      "gen_p 0 - 1 tensor(-765.5111, device='cuda:0', grad_fn=<SumBackward0>)\n",
      "front 0 - 1 tensor(10024.2080, device='cuda:0')\n",
      "Gen.gen params sum 1.219764232635498\n",
      "\n",
      "400 3\n",
      "gen_p 0 - 1 tensor(-1170.4220, device='cuda:0', grad_fn=<SumBackward0>)\n",
      "front 0 - 1 tensor(6264.6440, device='cuda:0')\n",
      "Gen.gen params sum 1.2017650604248047\n",
      "[3/300]: loss_d: -1957.363, loss_g: 2.696,          front_loss: 70.854, feature_loss: 0.000, g_loss: -3082.533, d_loss: 5.318\n",
      "\n",
      "0 4\n",
      "gen_p 0 - 1 tensor(-2962.7922, device='cuda:0', grad_fn=<SumBackward0>)\n",
      "front 0 - 1 tensor(-16574.1309, device='cuda:0')\n",
      "Gen.gen params sum 1.247517466545105\n",
      "\n",
      "200 4\n",
      "gen_p 0 - 1 tensor(4209.0156, device='cuda:0', grad_fn=<SumBackward0>)\n",
      "front 0 - 1 tensor(1953.3180, device='cuda:0')\n",
      "Gen.gen params sum 1.2444660663604736\n",
      "\n",
      "400 4\n",
      "gen_p 0 - 1 tensor(18454.8770, device='cuda:0', grad_fn=<SumBackward0>)\n",
      "front 0 - 1 tensor(3925.6628, device='cuda:0')\n",
      "Gen.gen params sum 1.2629191875457764\n",
      "[4/300]: loss_d: -2569.521, loss_g: -5.250,          front_loss: 47.037, feature_loss: 0.000, g_loss: -4406.046, d_loss: -29.087\n",
      "\n",
      "0 5\n",
      "gen_p 0 - 1 tensor(5400.0645, device='cuda:0', grad_fn=<SumBackward0>)\n",
      "front 0 - 1 tensor(3559.8274, device='cuda:0')\n",
      "Gen.gen params sum 1.2768354415893555\n",
      "\n",
      "200 5\n",
      "gen_p 0 - 1 tensor(15420.5029, device='cuda:0', grad_fn=<SumBackward0>)\n",
      "front 0 - 1 tensor(6126.4624, device='cuda:0')\n",
      "Gen.gen params sum 1.2634761333465576\n",
      "\n",
      "400 5\n",
      "gen_p 0 - 1 tensor(-7163.9307, device='cuda:0', grad_fn=<SumBackward0>)\n",
      "front 0 - 1 tensor(23576.9570, device='cuda:0')\n",
      "Gen.gen params sum 1.2908610105514526\n",
      "[5/300]: loss_d: -3234.209, loss_g: -2.511,          front_loss: 58.897, feature_loss: 0.000, g_loss: -5893.023, d_loss: 8.444\n",
      "\n",
      "0 6\n",
      "gen_p 0 - 1 tensor(-5227.5718, device='cuda:0', grad_fn=<SumBackward0>)\n",
      "front 0 - 1 tensor(-6154.2432, device='cuda:0')\n",
      "Gen.gen params sum 1.2796083688735962\n",
      "\n",
      "200 6\n",
      "gen_p 0 - 1 tensor(-22056.4629, device='cuda:0', grad_fn=<SumBackward0>)\n",
      "front 0 - 1 tensor(1383.9528, device='cuda:0')\n",
      "Gen.gen params sum 1.2916145324707031\n",
      "\n",
      "400 6\n",
      "gen_p 0 - 1 tensor(-16335.6357, device='cuda:0', grad_fn=<SumBackward0>)\n",
      "front 0 - 1 tensor(1353.1958, device='cuda:0')\n",
      "Gen.gen params sum 1.3089916706085205\n",
      "[6/300]: loss_d: -3946.111, loss_g: -6.854,          front_loss: 61.998, feature_loss: 0.000, g_loss: -7505.686, d_loss: -28.566\n",
      "\n",
      "0 7\n",
      "gen_p 0 - 1 tensor(6162.3833, device='cuda:0', grad_fn=<SumBackward0>)\n",
      "front 0 - 1 tensor(39210.3750, device='cuda:0')\n",
      "Gen.gen params sum 1.3124902248382568\n"
     ]
    }
   ],
   "source": [
    "n_epoch = 300\n",
    "Gen_loss=0\n",
    "Dis_loss=0\n",
    "D_losses, G_losses = [], []\n",
    "for epoch in range(1, n_epoch+1):\n",
    "    #if not os.path.isdir(\"I:/train_data/processed/epoch\" + str(epoch_num)):\n",
    "    #    os.mkdir( \"I:/train_data/processed/epoch\" + str(epoch_num))\n",
    "    #os.mkdir( \"I:/train_data/processed/epoch\" + str(epoch_num))\n",
    "\n",
    "    d = list(enumerate(train_loader_front))\n",
    "    for j in range(len(d)):\n",
    "        d[j] = (j, torch.autograd.Variable(d[j][1].to(device), requires_grad = False))\n",
    "    for batch_idx, x in enumerate(train_loader_profile):\n",
    "        for k in range(len(x)):\n",
    "            x[k] = torch.autograd.Variable(x[k].to(device), requires_grad = False)\n",
    "        x = x.to(device)\n",
    "        if batch_idx >= len(d):\n",
    "            break\n",
    "        Gen_loss,  Dis_loss, front_loss, feature_loss, g_loss, d_loss= loss(epoch, x, d[batch_idx][1])\n",
    "        #, reg_gen,reg_dis\n",
    "        \n",
    "        \n",
    "        a += 1\n",
    "    a = 0\n",
    "    epoch_num += 1 \n",
    "        #print(list(map(lambda x: x.item(), [Gen_loss,  Dis_loss, front_loss, feature_loss, g_loss, d_loss])))\n",
    "#, reg_gen: %.3f,reg_dis: %.3f\n",
    "#     for batch_idx_test in range(len(enumerate_test)):\n",
    "#         feeature_p = Model.forward(enumerate_test[batch_idx_test][1]) \n",
    "#         geen_p = G.forward(feeature_p) # ~x\n",
    "#         save_image(geen_p, src_test_data+\"/result/\"+str(epoch)+\"_\"+str(batch_idx_test)+\".jpg\" )\n",
    "#     #model_weights_dir = \"C:/Users/d.baranovska/Git/FNM-with-Extreme-Pose-and-Expression-in-the-Wild/weights\"\n",
    "    #torch.save(G.state_dict(), model_weights_dir+\"/G.pth\")\n",
    "    #torch.save(D.state_dict(), model_weights_dir+\"/D.pth\")\n",
    "    D_losses.append(Gen_loss)\n",
    "    G_losses.append(Dis_loss)\n",
    "    print('[%d/%d]: loss_d: %.3f, loss_g: %.3f,\\\n",
    "          front_loss: %.3f, feature_loss: %.3f, g_loss: %.3f, d_loss: %.3f' % (\n",
    "            (epoch), n_epoch, torch.mean(torch.FloatTensor(D_losses)), torch.mean(torch.FloatTensor(G_losses)),\n",
    "        front_loss, feature_loss, g_loss, d_loss))#,  reg_gen,reg_dis))\n",
    "    if(epoch % 20 == 0):\n",
    "        plt.plot(G_losses)\n",
    "        plt.show()\n",
    "        \n",
    "    #writer.add_histogram('Gen_losses', np.array(G_losses))\n",
    "    #writer.add_histogram('Dis_losses', np.array(D_losses))"
   ]
  },
  {
   "cell_type": "code",
   "execution_count": null,
   "metadata": {
    "scrolled": true
   },
   "outputs": [],
   "source": [
    "plt.plot(D_losses)\n",
    "plt.show()"
   ]
  },
  {
   "cell_type": "code",
   "execution_count": null,
   "metadata": {},
   "outputs": [],
   "source": [
    "model_weights_dir = \"C:/Users/d.baranovska/Git/FNM-with-Extreme-Pose-and-Expression-in-the-Wild/weights\"\n",
    "torch.save(G.state_dict(), model_weights_dir+\"/G.pth\")\n",
    "torch.save(D.state_dict(), model_weights_dir+\"/D.pth\")"
   ]
  },
  {
   "cell_type": "code",
   "execution_count": null,
   "metadata": {},
   "outputs": [],
   "source": [
    "def fnm_gen(weights_path=None, **kwargs):\n",
    "    \"\"\"\n",
    "    load imported model instance\n",
    "\n",
    "    Args:\n",
    "        weights_path (str): If set, loads model weights from the given path\n",
    "    \"\"\"\n",
    "    model = Generator()\n",
    "    if weights_path:\n",
    "        state_dict = torch.load(weights_path)\n",
    "        model.load_state_dict(state_dict)\n",
    "    return model\n",
    "\n",
    "def fnm_dis(weights_path=None, **kwargs):\n",
    "    \"\"\"\n",
    "    load imported model instance\n",
    "\n",
    "    Args:\n",
    "        weights_path (str): If set, loads model weights from the given path\n",
    "    \"\"\"\n",
    "    model = Discriminator()\n",
    "    if weights_path:\n",
    "        state_dict = torch.load(weights_path)\n",
    "        model.load_state_dict(state_dict)\n",
    "    return model"
   ]
  },
  {
   "cell_type": "code",
   "execution_count": null,
   "metadata": {},
   "outputs": [],
   "source": [
    "# #Test set\n",
    "# test_list = []\n",
    "# src_test_data = \"C:/Users/d.baranovska/Git/FNM-with-Extreme-Pose-and-Expression-in-the-Wild/TPdata/test_data\"\n",
    "# for x in glob.iglob(os.path.join(src_test_data+\"/Not_tested\", \"*.jpg\")):\n",
    "#     jpgfile = x.split('\\\\')[0]+\"/\" +x.split('\\\\')[1].strip()\n",
    "#     test_list.append(jpgfile)\n",
    "# Test_data = TrainDataset(test_list)\n",
    "# test_loader = torch.utils.data.DataLoader(dataset=Test_data, batch_size=BS, shuffle=True, drop_last=True)\n",
    "# enumerate_test = list(enumerate(test_loader))\n",
    "# for j in range(len(enumerate_test)):\n",
    "#         enumerate_test[j] = (j, torch.autograd.Variable(enumerate_test[j][1].to(device), requires_grad = False))\n",
    "# for batch_idx_test in range(len(enumerate_test)):\n",
    "#         feeature_p = Model.forward(enumerate_test[batch_idx_test][1]) \n",
    "#         geen_p = G.forward(feeature_p) # ~x\n",
    "#         save_image(geen_p, src_test_data+\"/Not_tested/results/\"+\"_\"+str(batch_idx_test)+\".png\" )\n",
    "#         save_image(enumerate_test[batch_idx_test][1], src_test_data+\"/Not_tested/results/\"+\"_\"+str(batch_idx_test)+\"orig.png\" )\n",
    "    "
   ]
  },
  {
   "cell_type": "code",
   "execution_count": null,
   "metadata": {},
   "outputs": [],
   "source": [
    "# #Test set\n",
    "# test_list = []\n",
    "# src_test_data = \"C:/Users/d.baranovska/Git/FNM-with-Extreme-Pose-and-Expression-in-the-Wild/TPdata/test_data\"\n",
    "# for x in glob.iglob(os.path.join(src_test_data+\"/test\", \"*.jpg\")):\n",
    "#     jpgfile = x.split('\\\\')[0]+\"/\" +x.split('\\\\')[1].strip()\n",
    "#     test_list.append(jpgfile)\n",
    "# Test_data = TrainDataset(test_list)\n",
    "# test_loader = torch.utils.data.DataLoader(dataset=Test_data, batch_size=BS, shuffle=True, drop_last=True)\n",
    "# enumerate_test = list(enumerate(test_loader))\n",
    "# for j in range(len(enumerate_test)):\n",
    "#         enumerate_test[j] = (j, torch.autograd.Variable(enumerate_test[j][1].to(device), requires_grad = False))\n",
    "# for batch_idx_test in range(len(enumerate_test)):\n",
    "#         feeature_p = Model.forward(enumerate_test[batch_idx_test][1]) \n",
    "#         geen_p = G.forward(feeature_p) # ~x\n",
    "#         save_image(geen_p, src_test_data+\"/test/results/\"+\"_\"+str(batch_idx_test)+\".png\" )\n",
    "#         save_image(enumerate_test[batch_idx_test][1], src_test_data+\"/test/results/\"+\"_orig\"+str(batch_idx_test)+\".png\" )\n",
    "    "
   ]
  },
  {
   "cell_type": "code",
   "execution_count": null,
   "metadata": {},
   "outputs": [],
   "source": []
  }
 ],
 "metadata": {
  "kernelspec": {
   "display_name": "Python 3",
   "language": "python",
   "name": "python3"
  },
  "language_info": {
   "codemirror_mode": {
    "name": "ipython",
    "version": 3
   },
   "file_extension": ".py",
   "mimetype": "text/x-python",
   "name": "python",
   "nbconvert_exporter": "python",
   "pygments_lexer": "ipython3",
   "version": "3.7.6"
  }
 },
 "nbformat": 4,
 "nbformat_minor": 2
}
