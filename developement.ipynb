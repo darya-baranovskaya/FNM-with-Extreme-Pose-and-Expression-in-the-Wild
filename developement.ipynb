{
 "cells": [
  {
   "cell_type": "code",
   "execution_count": 1,
   "metadata": {},
   "outputs": [],
   "source": [
    "# prerequisites\n",
    "import torch\n",
    "import torch.nn as nn\n",
    "import torch.nn.functional as F\n",
    "import torch.optim as optim\n",
    "from torchvision import datasets, transforms\n",
    "from torch.autograd import Variable\n",
    "from torchvision.utils import save_image\n",
    "\n",
    "# Device configuration\n",
    "device = torch.device('cuda' if torch.cuda.is_available() else 'cpu')"
   ]
  },
  {
   "cell_type": "code",
   "execution_count": 2,
   "metadata": {},
   "outputs": [],
   "source": [
    "import os\n",
    "import numpy as np\n",
    "import tensorflow as tf"
   ]
  },
  {
   "cell_type": "code",
   "execution_count": 3,
   "metadata": {},
   "outputs": [],
   "source": [
    "from math import floor"
   ]
  },
  {
   "cell_type": "code",
   "execution_count": 4,
   "metadata": {},
   "outputs": [],
   "source": [
    "use_bias = False\n",
    "front_path = './images/fig1'\n",
    "profile_path = '.images/fig2'\n",
    "lambda_l1 = 0.001, #'weight of the loss for L1 texture loss') # 0.001\n",
    "lambda_fea=100 #'weight of the loss for face model feature loss')\n",
    "lambda_reg= 1e-5# 'weight of the loss for L2 regularitaion loss')\n",
    "lambda_gan= 1# 'weight of the loss for gan loss')\n",
    "lambda_gp=10# 'weight of the loss for gradient penalty on parameter of D')\n",
    "\n",
    "# For training\n",
    "dataset_size=  1000# 'dataset path')  # casia_aligned_250_250_jpg\n",
    "profile_list=''# 'train profile list')\n",
    "front_path=''#front data path')\n",
    "front_list=''# 'train front list')\n",
    "test_path=''# 'front data path')\n",
    "is_train=True# 'train or test')\n",
    "is_finetune= False# 'finetune') # False, True\n",
    "face_mode='resnet50.npy'# 'face model path')\n",
    "checkpoint='checkpoint/fnm'# 'checkpoint directory')\n",
    "summary_dir= 'log/fnm'# 'logs directory')\n",
    "checkpoint_ft='checkpoint/fnm/ck-09'#'finetune or test checkpoint path')\n",
    "batch_size= 2# 'batch size')#was 16\n",
    "BS = batch_size\n",
    "epoc=10 # 'epoch')\n",
    "critic= 1 #'number of D training times')\n",
    "save_freq= 1000 # 'the frequency of saving model')\n",
    "lr=1e-4# 'base learning rate')\n",
    "beta1=0. # 'beta1 momentum term of adam')\n",
    "beta2=0.9 # 'beta2 momentum term of adam')\n",
    "stddev= 0.02 # 'stddev for W initializer')\n",
    "use_bias=False # 'whether to use bias')\n",
    "results='results/fnm' # 'path for saving results') #\n",
    "############################\n",
    "batch_size = 4\n",
    "############################\n",
    "#   environment setting    #\n",
    "############################\n",
    "device_id='3,4'# 'device id')\n",
    "ori_height=224 # 'original height of profile images')\n",
    "ori_width=224 # 'original width of profile images')\n",
    "height= 224 #'height of images') # do not modified\n",
    "width= 224 # 'width of images') # do not modified\n",
    "CHANNEL=3 # 'channel of images')\n",
    "num_threads=8 # 'number of threads of enqueueing examples')\n"
   ]
  },
  {
   "cell_type": "markdown",
   "metadata": {},
   "source": [
    "# Resnet50 model trained on VGGFace2 dataset"
   ]
  },
  {
   "cell_type": "code",
   "execution_count": 5,
   "metadata": {},
   "outputs": [],
   "source": [
    "from Resnet50_ft_dag import resnet50_ft_dag\n"
   ]
  },
  {
   "cell_type": "markdown",
   "metadata": {},
   "source": [
    "# Batch normalisation"
   ]
  },
  {
   "cell_type": "code",
   "execution_count": 6,
   "metadata": {},
   "outputs": [],
   "source": [
    "# class Batch_norm(nn.Module):\n",
    "#     def __init__(self, in_channels, epsilon=1e-5, momentum = 0.9, is_train = False):\n",
    "#         super(Batch_norm, self).__init__()\n",
    "#         # self.mean  = mosv_dict['mean']\n",
    "#         self.norm = nn.BatchNorm2d(in_channels, eps = epsilon,  momentum = momentum, track_running_stats = is_train)\n",
    "#         #self.scale = mosv_dict['scale']\n",
    "#         #self.variance = mosv_dict['variance']\n",
    "#         #self.epsilon = 1e-5\n",
    "#     def forward(self, x):\n",
    "#         norm = self.norm(x)\n",
    "#         return norm\n",
    "            \n",
    "    "
   ]
  },
  {
   "cell_type": "code",
   "execution_count": 7,
   "metadata": {},
   "outputs": [],
   "source": [
    "def Batch_norm(in_channels, epsilon=1e-5, momentum = 0.9, is_train = False):\n",
    "    return nn.BatchNorm2d(in_channels, eps = epsilon,  momentum = momentum, track_running_stats = is_train)"
   ]
  },
  {
   "cell_type": "code",
   "execution_count": 8,
   "metadata": {},
   "outputs": [],
   "source": [
    "NORM = Batch_norm"
   ]
  },
  {
   "cell_type": "markdown",
   "metadata": {},
   "source": [
    "# Options: conv2d, res_block "
   ]
  },
  {
   "cell_type": "code",
   "execution_count": 9,
   "metadata": {},
   "outputs": [],
   "source": [
    "def calc_conv_pad(input_size, output_size, filter_size = 3, stride = 2):\n",
    "    return max(0, floor((stride * (output_size - 1) + filter_size - input_size)/2 + 0.5))"
   ]
  },
  {
   "cell_type": "code",
   "execution_count": 10,
   "metadata": {},
   "outputs": [],
   "source": [
    "def calc_deconv_pad(input_size, output_size, filter_size = 3, stride = 2):\n",
    "    return max(0, floor((stride * (input_size - 1) + filter_size - output_size)/2 + 0.5))"
   ]
  },
  {
   "cell_type": "code",
   "execution_count": 11,
   "metadata": {},
   "outputs": [],
   "source": [
    "def conv2d( in_channels , out_channels , kernel_size = 3 , strides = 1  , \n",
    "           padding  =  None,  pad_input = None,\n",
    "           bias = use_bias,dilation_rate = 1, activation = None):\n",
    "    layers = []\n",
    "    if padding == None:\n",
    "        if pad_input is not None:\n",
    "            padding = calc_conv_pad(pad_input , 2*pad_input, kernel_size , strides)\n",
    "        else:\n",
    "            padding = 0\n",
    "    conv = nn.Conv2d( in_channels , out_channels , bias=bias, kernel_size = kernel_size, stride=strides, padding=padding, dilation=dilation_rate )\n",
    "    layers.append( conv )\n",
    "    if activation is not None:\n",
    "        layers.append( activation )\n",
    "    return nn.Sequential( *layers )\n",
    "\n",
    "def deconv2d(in_channels , out_channels , kernel_size = 3 , strides = 1  , \n",
    "             padding  = None, pad_input = None,\n",
    "             bias= use_bias, dilation_rate = 1,\n",
    "            activation = None):\n",
    "    if padding == None:\n",
    "        if pad_input is not None:\n",
    "            padding = calc_deconv_pad(pad_input , 2*pad_input, kernel_size , strides)\n",
    "        else:\n",
    "            padding = 0\n",
    "    layers = [nn.ConvTranspose2d(in_channels, out_channels, kernel_size =  kernel_size, stride=strides, \n",
    "                      padding=padding, bias=bias)]\n",
    "    if activation is not None:\n",
    "        layers.append( activation )\n",
    "    return nn.Sequential( *layers )\n",
    "    "
   ]
  },
  {
   "cell_type": "code",
   "execution_count": 12,
   "metadata": {},
   "outputs": [],
   "source": [
    "class res_block(nn.Module):\n",
    "    def __init__(self,  in_channels , \n",
    "                 out_channels , kernel_size = 3, \n",
    "                 stride = 1  , padding  =  None, pad_input = None,\n",
    "                 bias = use_bias,  norm = NORM, activation2 = nn.ReLU, activation = None,):\n",
    "        super(res_block, self).__init__()\n",
    "        if padding == None:\n",
    "            if pad_input is not None:\n",
    "                padding = calc_conv_pad(pad_input , pad_input, kernel_size , stride)\n",
    "            else: \n",
    "                padding = 0\n",
    "        self.out_channels = out_channels\n",
    "        if activation is not None:\n",
    "            self.activation = activation(out_channels)\n",
    "        else:\n",
    "            self.activation = activation\n",
    "        self.activation2 = activation2(out_channels)\n",
    "        convs = [conv2d(in_channels , out_channels , kernel_size , stride , padding, bias, activation = self.activation), \n",
    "             nn.BatchNorm2d( in_channels ), \n",
    "             nn.ReLU(out_channels), \n",
    "             conv2d(out_channels, out_channels, kernel_size, stride, padding, bias, activation = self.activation),\n",
    "             norm(in_channels)]\n",
    "        self.layers = nn.Sequential(*convs)\n",
    "        #независимо от передаваемого параметра NORM норма всегда Batch_norm\n",
    "    def forward(self, x):\n",
    "        return self.activation2(self.layers(x) + x)"
   ]
  },
  {
   "cell_type": "markdown",
   "metadata": {},
   "source": [
    "# Load data"
   ]
  },
  {
   "cell_type": "code",
   "execution_count": 13,
   "metadata": {},
   "outputs": [],
   "source": [
    "import glob\n",
    "import shutil\n",
    "import os\n",
    "\n",
    "src_dir = \"your/source/dir\"\n",
    "dst_dir = \"your/destination/dir\"\n",
    "profile_set = set()\n",
    "profile_list = []\n",
    "front_set = set()\n",
    "front_list = []\n",
    "\n",
    "def relocate_data(src_dir, src_dir_front, src_dir_profile):\n",
    "    for jpgfile in glob.iglob(os.path.join(src_dir, \"*.png\")):\n",
    "        tmp = jpgfile.split('\\\\')[-1].split('.')[0].split('_')\n",
    "        if (len(tmp) > 6):\n",
    "            if tmp[0] not in profile_set:\n",
    "                shutil.copy(jpgfile, src_dir_profile)\n",
    "                profile_list.append(jpgfile)\n",
    "                profile_set.add(tmp[0])\n",
    "        else:\n",
    "            if tmp[0] not in front_set:\n",
    "                shutil.copy(jpgfile, src_dir_front)\n",
    "                front_list.append(jpgfile)\n",
    "                front_set.add(tmp[0])"
   ]
  },
  {
   "cell_type": "code",
   "execution_count": 14,
   "metadata": {},
   "outputs": [],
   "source": [
    "src_dir = \"C:/Users/d.baranovska/Downloads/15\"\n",
    "src_dir_front = \"./TPdata/train_data/front\"\n",
    "src_dir_profile = \"./TPdata/train_data/profile\"\n",
    "relocate_data(src_dir, src_dir_front, src_dir_profile)"
   ]
  },
  {
   "cell_type": "code",
   "execution_count": 15,
   "metadata": {},
   "outputs": [],
   "source": [
    "from torch.utils.data import Dataset\n",
    "from PIL import Image"
   ]
  },
  {
   "cell_type": "code",
   "execution_count": 16,
   "metadata": {},
   "outputs": [],
   "source": [
    "PIC_SIZE = (224, 224)\n",
    "class TrainDataset(Dataset):\n",
    "    def __init__(self, img_list):\n",
    "        super(type(self), self).__init__()\n",
    "        self.img_list = img_list\n",
    "    def __len__(self):\n",
    "        return len(self.img_list)\n",
    "    def __getitem__(self, idx):\n",
    "        #229_01_01_200_08_cropped_test.png\n",
    "        img_name = self.img_list[idx]\n",
    "        with Image.open(img_name) as i:\n",
    "            im = i.resize(PIC_SIZE)\n",
    "            our_tensor = transforms.ToTensor()(im)\n",
    "        return our_tensor"
   ]
  },
  {
   "cell_type": "markdown",
   "metadata": {},
   "source": [
    "# Generator "
   ]
  },
  {
   "cell_type": "code",
   "execution_count": 17,
   "metadata": {},
   "outputs": [],
   "source": [
    "f7_shape = [7, 7, 2048]"
   ]
  },
  {
   "cell_type": "markdown",
   "metadata": {},
   "source": [
    "#### second variant"
   ]
  },
  {
   "cell_type": "code",
   "execution_count": 18,
   "metadata": {},
   "outputs": [],
   "source": [
    "class Generator(nn.Module):\n",
    "    def __init__(self): #, profile, front, train):\n",
    "        super(Generator, self).__init__() \n",
    "#         self.face_model = Resnet50_ft_dag()\n",
    "#         self.feature_p = self.face_model.forward(profile)\n",
    "#         self.feature_f = self.face_model.forward(front)\n",
    "#         self.fc2 = nn.Linear(self.fc1.out_features, self.fc1.out_features*2)\n",
    "#         self.is_train = train\n",
    "        \n",
    "        self.conv1 = nn.Sequential(conv2d(2048, 512, kernel_size=1, strides = 1), NORM(512, is_train), nn.ReLU())\n",
    "    \n",
    "        self.res1_1 = res_block(512, 512, norm = NORM, pad_input = 7)\n",
    "        self.res1_2 = res_block(512, 512, norm = NORM, pad_input = 7)\n",
    "        self.res1_3 = res_block(512, 512, norm = NORM, pad_input = 7)\n",
    "        self.res1_4 = res_block(512, 512, norm = NORM, pad_input = 7)\n",
    "        self.dconv2 = nn.Sequential(deconv2d(512, 256, kernel_size=4, strides = 2, pad_input = 7), NORM(256), nn.ReLU())\n",
    "        self.res2 = res_block(256, 256, norm = NORM, pad_input = 14)\n",
    "        self.dconv3 = nn.Sequential(deconv2d(256, 128, kernel_size=4, strides = 2, pad_input = 14) , NORM(128), nn.ReLU())\n",
    "        self.res3 = res_block(128, 128, norm = NORM, pad_input = 28)\n",
    "        self.dconv4 = nn.Sequential(deconv2d(128, 64, kernel_size=4, strides = 2, pad_input = 28), NORM(64), nn.ReLU())\n",
    "        self.res4 = res_block(64, 64, norm = NORM, pad_input = 56)\n",
    "        self.dconv5 = nn.Sequential(deconv2d(64, 32, kernel_size=4, strides = 2, pad_input = 56), NORM(32), nn.ReLU())\n",
    "        self.res5 = res_block(32, 32, norm = NORM, pad_input = 112)\n",
    "        self.dconv6 = nn.Sequential(deconv2d(32, 32, kernel_size=4, strides = 2, pad_input =112),  NORM(32), nn.ReLU())\n",
    "        self.res6 = res_block(32, 32, norm = NORM,  pad_input = 224)\n",
    "        self.gen = nn.Sequential(conv2d(32, 3,  kernel_size=1, strides = 1), nn.Tanh())\n",
    "        \n",
    "    def forward(self, feature):\n",
    "        feat7 = feature[0]\n",
    "        feat7 = self.conv1(feat7)\n",
    "        pool5 = feature[1]\n",
    "        res1_1 = self.res1_1(feat7)\n",
    "        res1_2 = self.res1_2(res1_1)\n",
    "        res1_3 = self.res1_3(res1_2)\n",
    "        res1_4 = self.res1_2(res1_3)\n",
    "        dconv2 = self.dconv2(res1_4)\n",
    "        res2 = self.res2(dconv2)\n",
    "        dconv3 = self.dconv3(res2)\n",
    "        res3 = self.res3(dconv3)\n",
    "        dconv4 = self.dconv4(res3)\n",
    "        res4 = self.res4(dconv4)\n",
    "        dconv5 = self.dconv5(res4)\n",
    "        res5 = self.res5(dconv5)\n",
    "        dconv6 = self.dconv6(res5)\n",
    "        res6 = self.res6(dconv6)\n",
    "        gen = self.gen(res6)\n",
    "        return (gen + 1)* 127.5"
   ]
  },
  {
   "cell_type": "code",
   "execution_count": 19,
   "metadata": {},
   "outputs": [],
   "source": [
    "class Discriminator(nn.Module):\n",
    "    def __init__(self):\n",
    "        super(Discriminator, self).__init__()\n",
    "        pad = 1\n",
    "        self.h0_0 = nn.Sequential(conv2d(3, 32, kernel_size=3, strides=2, padding = pad), nn.LeakyReLU())\n",
    "        self.h0_1 = nn.Sequential(conv2d(32, 64, kernel_size=3, strides=2, padding = pad), NORM(64), nn.LeakyReLU())\n",
    "        self.h0_2 = nn.Sequential(conv2d(64, 128, kernel_size=3, strides=2, padding = pad), NORM(128), nn.LeakyReLU())\n",
    "        self.h0_3 = nn.Sequential(conv2d(128, 256, kernel_size=3, strides=2, padding = pad), NORM(256), nn.LeakyReLU())\n",
    "        self.h0_4 = nn.Sequential(conv2d(256, 256, kernel_size=3, strides=2, padding = pad), NORM(256), nn.LeakyReLU())\n",
    "        self.h0_5 = nn.Linear(12544, 1)\n",
    "        \n",
    "        self.h1_0 = nn.Sequential(conv2d(3, 32, kernel_size=3, strides=2, padding = pad), nn.LeakyReLU())\n",
    "        self.h1_1 = nn.Sequential(conv2d(32, 64, kernel_size=3, strides=2, padding = pad), NORM(64), nn.LeakyReLU())\n",
    "        self.h1_2 = nn.Sequential(conv2d(64, 128, kernel_size=3, strides=2, padding = pad), NORM(128), nn.LeakyReLU())\n",
    "        self.h1_3 = nn.Sequential(conv2d(128, 256, kernel_size=3, strides=2, padding = pad), NORM(256), nn.LeakyReLU())\n",
    "        self.h1_4 = nn.Linear(6144, 1)\n",
    "        \n",
    "        self.h2_0 = nn.Sequential(conv2d(3, 32, kernel_size=3, strides=2, padding = pad), nn.LeakyReLU())\n",
    "        self.h2_1 = nn.Sequential(conv2d(32, 64, kernel_size=3, strides=2, padding = pad), NORM(64), nn.LeakyReLU())\n",
    "        self.h2_2 = nn.Sequential(conv2d(64, 128, kernel_size=3, strides=2, padding = pad), NORM(128), nn.LeakyReLU())\n",
    "        self.h2_3 = nn.Sequential(conv2d(128, 256, kernel_size=3, strides=2, padding = pad), NORM(256), nn.LeakyReLU())\n",
    "        #self.h2_4 = nn.Linear(self.h2_3.out_features, 1)\n",
    "        self.h2_4 = nn.Linear(3840, 1)\n",
    "        \n",
    "        self.h3_0 = nn.Sequential(conv2d(3, 32, kernel_size=3, strides=2, padding = pad), nn.LeakyReLU())\n",
    "        self.h3_1 = nn.Sequential(conv2d(32, 64, kernel_size=3, strides=2, padding = pad), NORM(64), nn.LeakyReLU())\n",
    "        self.h3_2 = nn.Sequential(conv2d(64, 128, kernel_size=3, strides=2, padding = pad), NORM(128), nn.LeakyReLU())\n",
    "        self.h3_3 = nn.Sequential(conv2d(128, 256, kernel_size=3, strides=2, padding = pad), NORM(256), nn.LeakyReLU())\n",
    "        self.h3_4 = nn.Linear(2560, 1)\n",
    "        \n",
    "        self.h4_0 = nn.Sequential(conv2d(3, 32, kernel_size=3, strides=2, padding = pad), nn.LeakyReLU())\n",
    "        self.h4_1 = nn.Sequential(conv2d(32, 64, kernel_size=3, strides=2, padding = pad), NORM(64), nn.LeakyReLU())\n",
    "        self.h4_2 = nn.Sequential(conv2d(64, 128, kernel_size=3, strides=2, padding = pad), NORM(128), nn.LeakyReLU())\n",
    "        self.h4_3 = nn.Sequential(conv2d(128, 256, kernel_size=3, strides=2, padding = pad), NORM(256), nn.LeakyReLU())\n",
    "        self.h4_4 = nn.Linear(16384, 1)\n",
    "    \n",
    "    \n",
    "    def forward(self, images):\n",
    "        eyes = images[0:BS,0:CHANNEL,64:100,50:174] #[BS,36,124,CHANNEL])\n",
    "        nose =  images[0:BS,0:CHANNEL,75:140,90:134]#tf.slice(images, [0,75,90,0], [BS,65,44,CHANNEL])\n",
    "        mouth = images[0:BS,0:CHANNEL,140:170,75:149]#tf.slice(images, [0,140,75,0], [BS,30,74,CHANNEL])\n",
    "        face = images[0:BS,0:CHANNEL,64:180,50:174]#[BS,116,124,CHANNEL])\n",
    "        h0_0 = self.h0_0(images)\n",
    "        h0_1 = self.h0_1(h0_0)\n",
    "        h0_2 = self.h0_2(h0_1)\n",
    "        h0_3 = self.h0_3(h0_2)\n",
    "        h0_4 = self.h0_4(h0_3)\n",
    "        h0_5 = self.h0_5(torch.reshape(h0_4, [BS, -1]))\n",
    "        \n",
    "        h1_0 = self.h1_0(eyes)\n",
    "        h1_1 = self.h1_1(h1_0)\n",
    "        h1_2 = self.h1_2(h1_1)\n",
    "        h1_3 = self.h1_3(h1_2)\n",
    "        h1_4 = self.h1_4(torch.reshape(h1_3, [BS, -1]))\n",
    "        \n",
    "        h2_0 = self.h2_0(nose)\n",
    "        h2_1 = self.h2_1(h2_0)\n",
    "        h2_2 = self.h2_2(h2_1)\n",
    "        h2_3 = self.h2_3(h2_2)\n",
    "        h2_4 = self.h2_4(torch.reshape(h2_3, [BS, -1]))\n",
    "        \n",
    "        h3_0 = self.h3_0(mouth)\n",
    "        h3_1 = self.h3_1(h3_0)\n",
    "        h3_2 = self.h3_2(h3_1)\n",
    "        h3_3 = self.h3_3(h3_2)\n",
    "        h3_4 = self.h3_4(torch.reshape(h3_3, [BS, -1]))\n",
    "        \n",
    "        h4_0 = self.h4_0(face)\n",
    "        h4_1 = self.h4_1(h4_0)\n",
    "        h4_2 = self.h4_2(h4_1)\n",
    "        h4_3 = self.h4_3(h4_2)\n",
    "        h4_4 = self.h4_4(torch.reshape(h4_3, [BS, -1]))\n",
    "        return (h0_5, h1_4, h2_4, h3_4, h4_4)"
   ]
  },
  {
   "cell_type": "markdown",
   "metadata": {},
   "source": [
    "# G and D"
   ]
  },
  {
   "cell_type": "code",
   "execution_count": 20,
   "metadata": {},
   "outputs": [],
   "source": [
    "#built network\n",
    "z_dim = 224*224\n",
    "mnist_dim = 224*224\n",
    "#mnist_dim = train_dataset_front.train_data.size(1) * train_dataset.train_data.size(2)\n",
    "\n",
    "G = Generator()\n",
    "D = Discriminator()"
   ]
  },
  {
   "cell_type": "code",
   "execution_count": 21,
   "metadata": {},
   "outputs": [],
   "source": [
    "criterion = nn.BCELoss() \n",
    "\n",
    "# optimizer\n",
    "lr = 0.0002 \n",
    "G_optimizer = optim.Adam(G.parameters(),betas=(beta1, beta2), weight_decay=0)\n",
    "D_optimizer = optim.Adam(D.parameters(), betas=(beta1, beta2), weight_decay=0)\n"
   ]
  },
  {
   "cell_type": "markdown",
   "metadata": {},
   "source": [
    "# Loss functions"
   ]
  },
  {
   "cell_type": "code",
   "execution_count": 22,
   "metadata": {},
   "outputs": [],
   "source": [
    "Losses = []\n",
    "D_losses, G_losses = [], []\n",
    "D_finalLosses, G_finalLosses = [], []"
   ]
  },
  {
   "cell_type": "code",
   "execution_count": 23,
   "metadata": {},
   "outputs": [],
   "source": [
    "def reverse(x, dim):\n",
    "    dim = x.dim() + dim if dim < 0 else dim\n",
    "    return x[tuple(slice(None, None) if i != dim\n",
    "             else torch.arange(x.size(i)-1, -1, -1).long()\n",
    "             for i in range(x.dim()))]"
   ]
  },
  {
   "cell_type": "code",
   "execution_count": 24,
   "metadata": {},
   "outputs": [],
   "source": [
    "epsilon = 1e-9"
   ]
  },
  {
   "cell_type": "code",
   "execution_count": 71,
   "metadata": {},
   "outputs": [],
   "source": [
    "def loss(profile, front):\n",
    "    #=======================Train the generator=======================#\n",
    "    feature_p = Model.forward(profile) # G_enc(x)\n",
    "    feature_f = Model.forward(front) # G_enc(y)\n",
    "    G.zero_grad()\n",
    "    gen_p = G.forward(feature_p) # ~x\n",
    "    gen_f = G.forward(feature_f) # ~y\n",
    "    dr = torch.cat(D(front))\n",
    "    df1 = torch.cat(D(gen_p))\n",
    "    df2 = torch.cat(D(gen_f))\n",
    "    feature_gen_p = Model.forward(gen_p) #G_enc(~x)\n",
    "    feature_gen_f = Model.forward(gen_f) #G_enc(~y)\n",
    "    \n",
    "    pool5_p_norm = feature_p[-1]/(torch.norm(feature_p[-1],dim = 1, keepdim = True) + epsilon)\n",
    "    pool5_f_norm = feature_f[-1]/(torch.norm(feature_f[-1],dim = 1, keepdim = True) + epsilon)\n",
    "    \n",
    "    pool5_gen_p_norm = feature_gen_p[-1]/(torch.norm(feature_gen_p[-1],dim = 1, keepdim = True) + epsilon)\n",
    "    pool5_gen_f_norm = feature_gen_f[-1]/(torch.norm(feature_gen_f[-1],dim = 1, keepdim = True) + epsilon)\n",
    "    \n",
    "     # 1. Frontalization Loss: L1-Norm\n",
    "    front_loss = torch.mean(torch.sum(torch.abs(front/255. - gen_f/255.), [1,2,3]))\n",
    "    \n",
    "    # 2. identity perseption loss l2-norm\n",
    "    feature_distance = 0.5*(1 - torch.sum(torch.mul(pool5_p_norm, pool5_gen_p_norm), [1])) + \\\n",
    "                                0.5*(1 - torch.sum(torch.mul(pool5_f_norm, pool5_gen_f_norm), [1]))\n",
    "    feature_loss = torch.mean(feature_distance)\n",
    "    Losses.append(feature_loss)\n",
    "    #.\n",
    "    #trainable var\n",
    "    #all_vars = torch.autograd.Variables()\n",
    "    #vars_gen = Variable(G.parameters, requires_grad= True)\n",
    "    #vars_dis = Variable(D.parameters, requires_grad= True)\n",
    "    #vars_gen = weights_list=[var for var in self.vars_gen if 'kernel' in var.name]\n",
    "    \n",
    "    \n",
    "    # 3. Regulation loss\n",
    "#     loss = nn.MSELoss(lambda_reg, reduction='mean')\n",
    "#     #reg_gen = loss(weights_list=[var for var in vars_gen]) # if 'kernel' in var.name\n",
    "#     #reg_dis = loss(weights_list=[var for var in vars_dis])# if 'kernel' in var.name\n",
    "#     target = torch.zeros(G.parameters.shape)\n",
    "#     reg_gen = loss(G.parameters, target)\n",
    "#     reg_dis = loss(D.parameters, target)\n",
    "#     G_losses.append(reg_gen)\n",
    "#     D_losses.append(reg_dis)\n",
    "    \n",
    "    \n",
    "    # 4. Adversarial Loss\n",
    "    d_loss = torch.mean(torch.sum(df1)*0.5 + torch.sum(df2)*0.5 - torch.sum(dr)) / 5\n",
    "    g_loss = torch.mean(torch.sum(df1)*0.5 + torch.sum(df2)*0.5) / 5\n",
    "    D_losses.append(d_loss)\n",
    "    G_losses.append(g_loss)\n",
    "    \n",
    "    # 5. Symmetric Loss - not applied\n",
    "    #mirror_p = reverse(gen_p, dim=[2])\n",
    "    #sym_loss = torch.mean(torch.sum(torchf.abs(mirror_p/225. - gen_p/255.), [1,2,3]))\n",
    "    \n",
    "    # Gradient Penalty #\n",
    "#     alpha = tf.random_uniform((self.gen_p.get_shape().as_list()[0], 1, 1, 1),minval = 0., maxval = 1.,)\n",
    "#       inter = front + alpha * (self.gen_p - front)\n",
    "#       d = self.discriminator(inter, reuse=True)\n",
    "#       grad = tf.gradients([d], [inter])[0]\n",
    "#       slopes = tf.sqrt(tf.reduce_sum(tf.square(grad), [1,2,3]))\n",
    "#       self.gradient_penalty = tf.reduce_mean(tf.square(slopes - 1.))\n",
    "      \n",
    "     # 6. Drift Loss - not applied\n",
    "    #drift_loss = 0\n",
    "    #torch.mean(torch.add(torch.square(df)) + torch.add(torch.square(dr))) / 10\n",
    "    \n",
    "    Gen_loss =  torch.mul(front_loss, torch.tensor(lambda_l1)) + torch.mul( feature_loss, torch.tensor(lambda_fea)) + torch.mul(g_loss,torch.tensor(1/lambda_gan))\n",
    "    Dis_loss = torch.tensor(lambda_gan) * d_loss # + torch.tensor(lambda_gp) * gradient_penalty\n",
    "    G_finalLosses.append(Gen_loss)\n",
    "    D_finalLosses.append(Dis_loss)\n",
    "    Gen_loss.backward()\n",
    "    Dis_loss.backward()\n",
    "    \n",
    "    G_optimizer.step()\n",
    "    D_optimizer.step()\n",
    "    return Gen_loss,  Dis_loss\n",
    "#     z = Variable(torch.randn(bs, z_dim).to(device))\n",
    "#     y = Variable(torch.ones(bs, 1).to(device))\n",
    "\n",
    "#     G_output = G(z)\n",
    "#     D_output = D(G_output)\n",
    "#     G_loss = criterion(D_output, y)\n",
    "\n",
    "#     # gradient backprop & optimize ONLY G's parameters\n",
    "#     G_loss.backward()\n",
    "#     G_optimizer.step()\n",
    "        \n",
    "#     return G_loss.data.item()"
   ]
  },
  {
   "cell_type": "code",
   "execution_count": 26,
   "metadata": {},
   "outputs": [
    {
     "data": {
      "text/plain": [
       "24322144"
      ]
     },
     "execution_count": 26,
     "metadata": {},
     "output_type": "execute_result"
    }
   ],
   "source": [
    "sum(p.numel() for p in G.parameters() if p.requires_grad)\n"
   ]
  },
  {
   "cell_type": "markdown",
   "metadata": {},
   "source": [
    "# Main"
   ]
  },
  {
   "cell_type": "code",
   "execution_count": 27,
   "metadata": {},
   "outputs": [],
   "source": [
    "weights_path= \"./resnet50_ft_dag.pth\"\n",
    "Model = resnet50_ft_dag(weights_path=weights_path)"
   ]
  },
  {
   "cell_type": "code",
   "execution_count": 28,
   "metadata": {},
   "outputs": [],
   "source": [
    "# x = torch.rand([2, 3, 224, 224])\n",
    "# t = Model(x)\n",
    "# G = Generator()\n",
    "# x_gen = G(t)\n",
    "# print(x_gen.size())"
   ]
  },
  {
   "cell_type": "code",
   "execution_count": 29,
   "metadata": {},
   "outputs": [],
   "source": [
    "# D = Discriminator()\n",
    "# x_dis = D(x_gen)\n",
    "# print(x_dis[0].size(), x_dis[1].size(), x_dis[2].size(), x_dis[3].size(), x_dis[4].size())"
   ]
  },
  {
   "cell_type": "code",
   "execution_count": 30,
   "metadata": {},
   "outputs": [],
   "source": [
    "Train_front_data = TrainDataset(front_list)\n",
    "Train_profile_data = TrainDataset(profile_list)"
   ]
  },
  {
   "cell_type": "code",
   "execution_count": 31,
   "metadata": {},
   "outputs": [],
   "source": [
    "train_loader_front = torch.utils.data.DataLoader(dataset=Train_front_data, batch_size=BS, shuffle=True)\n",
    "train_loader_profile = torch.utils.data.DataLoader(dataset=Train_profile_data, batch_size=BS, shuffle=True)\n",
    "#test_loader = torch.utils.data.DataLoader(dataset=test_dataset, batch_size=bs, shuffle=False)"
   ]
  },
  {
   "cell_type": "code",
   "execution_count": 32,
   "metadata": {},
   "outputs": [
    {
     "name": "stdout",
     "output_type": "stream",
     "text": [
      "torch.Size([2, 3, 224, 224])\n"
     ]
    }
   ],
   "source": [
    "d = list(enumerate(train_loader_front))\n",
    "print(d[3][1].size())"
   ]
  },
  {
   "cell_type": "code",
   "execution_count": 73,
   "metadata": {},
   "outputs": [
    {
     "ename": "RuntimeError",
     "evalue": "[enforce fail at ..\\c10\\core\\CPUAllocator.cpp:72] data. DefaultCPUAllocator: not enough memory: you tried to allocate 1204224 bytes. Buy new RAM!\n",
     "output_type": "error",
     "traceback": [
      "\u001b[1;31m---------------------------------------------------------------------------\u001b[0m",
      "\u001b[1;31mRuntimeError\u001b[0m                              Traceback (most recent call last)",
      "\u001b[1;32m<ipython-input-73-73af5513b6e2>\u001b[0m in \u001b[0;36m<module>\u001b[1;34m\u001b[0m\n\u001b[0;32m      2\u001b[0m \u001b[1;32mfor\u001b[0m \u001b[0mepoch\u001b[0m \u001b[1;32min\u001b[0m \u001b[0mrange\u001b[0m\u001b[1;33m(\u001b[0m\u001b[1;36m1\u001b[0m\u001b[1;33m,\u001b[0m \u001b[0mn_epoch\u001b[0m\u001b[1;33m+\u001b[0m\u001b[1;36m1\u001b[0m\u001b[1;33m)\u001b[0m\u001b[1;33m:\u001b[0m\u001b[1;33m\u001b[0m\u001b[1;33m\u001b[0m\u001b[0m\n\u001b[0;32m      3\u001b[0m     \u001b[0mD_losses\u001b[0m\u001b[1;33m,\u001b[0m \u001b[0mG_losses\u001b[0m \u001b[1;33m=\u001b[0m \u001b[1;33m[\u001b[0m\u001b[1;33m]\u001b[0m\u001b[1;33m,\u001b[0m \u001b[1;33m[\u001b[0m\u001b[1;33m]\u001b[0m\u001b[1;33m\u001b[0m\u001b[1;33m\u001b[0m\u001b[0m\n\u001b[1;32m----> 4\u001b[1;33m     \u001b[0md\u001b[0m \u001b[1;33m=\u001b[0m \u001b[0mlist\u001b[0m\u001b[1;33m(\u001b[0m\u001b[0menumerate\u001b[0m\u001b[1;33m(\u001b[0m\u001b[0mtrain_loader_front\u001b[0m\u001b[1;33m)\u001b[0m\u001b[1;33m)\u001b[0m\u001b[1;33m\u001b[0m\u001b[1;33m\u001b[0m\u001b[0m\n\u001b[0m\u001b[0;32m      5\u001b[0m     \u001b[1;32mfor\u001b[0m \u001b[0mbatch_idx\u001b[0m\u001b[1;33m,\u001b[0m \u001b[0mx\u001b[0m \u001b[1;32min\u001b[0m \u001b[0menumerate\u001b[0m\u001b[1;33m(\u001b[0m\u001b[0mtrain_loader_profile\u001b[0m\u001b[1;33m)\u001b[0m\u001b[1;33m:\u001b[0m\u001b[1;33m\u001b[0m\u001b[1;33m\u001b[0m\u001b[0m\n\u001b[0;32m      6\u001b[0m         \u001b[0my\u001b[0m \u001b[1;33m=\u001b[0m \u001b[0md\u001b[0m\u001b[1;33m[\u001b[0m\u001b[0mbatch_idx\u001b[0m\u001b[1;33m]\u001b[0m\u001b[1;33m[\u001b[0m\u001b[1;36m1\u001b[0m\u001b[1;33m]\u001b[0m\u001b[1;33m\u001b[0m\u001b[1;33m\u001b[0m\u001b[0m\n",
      "\u001b[1;32m~\\AppData\\Local\\Continuum\\anaconda3\\lib\\site-packages\\torch\\utils\\data\\dataloader.py\u001b[0m in \u001b[0;36m__next__\u001b[1;34m(self)\u001b[0m\n\u001b[0;32m    344\u001b[0m     \u001b[1;32mdef\u001b[0m \u001b[0m__next__\u001b[0m\u001b[1;33m(\u001b[0m\u001b[0mself\u001b[0m\u001b[1;33m)\u001b[0m\u001b[1;33m:\u001b[0m\u001b[1;33m\u001b[0m\u001b[1;33m\u001b[0m\u001b[0m\n\u001b[0;32m    345\u001b[0m         \u001b[0mindex\u001b[0m \u001b[1;33m=\u001b[0m \u001b[0mself\u001b[0m\u001b[1;33m.\u001b[0m\u001b[0m_next_index\u001b[0m\u001b[1;33m(\u001b[0m\u001b[1;33m)\u001b[0m  \u001b[1;31m# may raise StopIteration\u001b[0m\u001b[1;33m\u001b[0m\u001b[1;33m\u001b[0m\u001b[0m\n\u001b[1;32m--> 346\u001b[1;33m         \u001b[0mdata\u001b[0m \u001b[1;33m=\u001b[0m \u001b[0mself\u001b[0m\u001b[1;33m.\u001b[0m\u001b[0m_dataset_fetcher\u001b[0m\u001b[1;33m.\u001b[0m\u001b[0mfetch\u001b[0m\u001b[1;33m(\u001b[0m\u001b[0mindex\u001b[0m\u001b[1;33m)\u001b[0m  \u001b[1;31m# may raise StopIteration\u001b[0m\u001b[1;33m\u001b[0m\u001b[1;33m\u001b[0m\u001b[0m\n\u001b[0m\u001b[0;32m    347\u001b[0m         \u001b[1;32mif\u001b[0m \u001b[0mself\u001b[0m\u001b[1;33m.\u001b[0m\u001b[0m_pin_memory\u001b[0m\u001b[1;33m:\u001b[0m\u001b[1;33m\u001b[0m\u001b[1;33m\u001b[0m\u001b[0m\n\u001b[0;32m    348\u001b[0m             \u001b[0mdata\u001b[0m \u001b[1;33m=\u001b[0m \u001b[0m_utils\u001b[0m\u001b[1;33m.\u001b[0m\u001b[0mpin_memory\u001b[0m\u001b[1;33m.\u001b[0m\u001b[0mpin_memory\u001b[0m\u001b[1;33m(\u001b[0m\u001b[0mdata\u001b[0m\u001b[1;33m)\u001b[0m\u001b[1;33m\u001b[0m\u001b[1;33m\u001b[0m\u001b[0m\n",
      "\u001b[1;32m~\\AppData\\Local\\Continuum\\anaconda3\\lib\\site-packages\\torch\\utils\\data\\_utils\\fetch.py\u001b[0m in \u001b[0;36mfetch\u001b[1;34m(self, possibly_batched_index)\u001b[0m\n\u001b[0;32m     45\u001b[0m         \u001b[1;32melse\u001b[0m\u001b[1;33m:\u001b[0m\u001b[1;33m\u001b[0m\u001b[1;33m\u001b[0m\u001b[0m\n\u001b[0;32m     46\u001b[0m             \u001b[0mdata\u001b[0m \u001b[1;33m=\u001b[0m \u001b[0mself\u001b[0m\u001b[1;33m.\u001b[0m\u001b[0mdataset\u001b[0m\u001b[1;33m[\u001b[0m\u001b[0mpossibly_batched_index\u001b[0m\u001b[1;33m]\u001b[0m\u001b[1;33m\u001b[0m\u001b[1;33m\u001b[0m\u001b[0m\n\u001b[1;32m---> 47\u001b[1;33m         \u001b[1;32mreturn\u001b[0m \u001b[0mself\u001b[0m\u001b[1;33m.\u001b[0m\u001b[0mcollate_fn\u001b[0m\u001b[1;33m(\u001b[0m\u001b[0mdata\u001b[0m\u001b[1;33m)\u001b[0m\u001b[1;33m\u001b[0m\u001b[1;33m\u001b[0m\u001b[0m\n\u001b[0m",
      "\u001b[1;32m~\\AppData\\Local\\Continuum\\anaconda3\\lib\\site-packages\\torch\\utils\\data\\_utils\\collate.py\u001b[0m in \u001b[0;36mdefault_collate\u001b[1;34m(batch)\u001b[0m\n\u001b[0;32m     53\u001b[0m             \u001b[0mstorage\u001b[0m \u001b[1;33m=\u001b[0m \u001b[0melem\u001b[0m\u001b[1;33m.\u001b[0m\u001b[0mstorage\u001b[0m\u001b[1;33m(\u001b[0m\u001b[1;33m)\u001b[0m\u001b[1;33m.\u001b[0m\u001b[0m_new_shared\u001b[0m\u001b[1;33m(\u001b[0m\u001b[0mnumel\u001b[0m\u001b[1;33m)\u001b[0m\u001b[1;33m\u001b[0m\u001b[1;33m\u001b[0m\u001b[0m\n\u001b[0;32m     54\u001b[0m             \u001b[0mout\u001b[0m \u001b[1;33m=\u001b[0m \u001b[0melem\u001b[0m\u001b[1;33m.\u001b[0m\u001b[0mnew\u001b[0m\u001b[1;33m(\u001b[0m\u001b[0mstorage\u001b[0m\u001b[1;33m)\u001b[0m\u001b[1;33m\u001b[0m\u001b[1;33m\u001b[0m\u001b[0m\n\u001b[1;32m---> 55\u001b[1;33m         \u001b[1;32mreturn\u001b[0m \u001b[0mtorch\u001b[0m\u001b[1;33m.\u001b[0m\u001b[0mstack\u001b[0m\u001b[1;33m(\u001b[0m\u001b[0mbatch\u001b[0m\u001b[1;33m,\u001b[0m \u001b[1;36m0\u001b[0m\u001b[1;33m,\u001b[0m \u001b[0mout\u001b[0m\u001b[1;33m=\u001b[0m\u001b[0mout\u001b[0m\u001b[1;33m)\u001b[0m\u001b[1;33m\u001b[0m\u001b[1;33m\u001b[0m\u001b[0m\n\u001b[0m\u001b[0;32m     56\u001b[0m     \u001b[1;32melif\u001b[0m \u001b[0melem_type\u001b[0m\u001b[1;33m.\u001b[0m\u001b[0m__module__\u001b[0m \u001b[1;33m==\u001b[0m \u001b[1;34m'numpy'\u001b[0m \u001b[1;32mand\u001b[0m \u001b[0melem_type\u001b[0m\u001b[1;33m.\u001b[0m\u001b[0m__name__\u001b[0m \u001b[1;33m!=\u001b[0m \u001b[1;34m'str_'\u001b[0m\u001b[0;31m \u001b[0m\u001b[0;31m\\\u001b[0m\u001b[1;33m\u001b[0m\u001b[1;33m\u001b[0m\u001b[0m\n\u001b[0;32m     57\u001b[0m             \u001b[1;32mand\u001b[0m \u001b[0melem_type\u001b[0m\u001b[1;33m.\u001b[0m\u001b[0m__name__\u001b[0m \u001b[1;33m!=\u001b[0m \u001b[1;34m'string_'\u001b[0m\u001b[1;33m:\u001b[0m\u001b[1;33m\u001b[0m\u001b[1;33m\u001b[0m\u001b[0m\n",
      "\u001b[1;31mRuntimeError\u001b[0m: [enforce fail at ..\\c10\\core\\CPUAllocator.cpp:72] data. DefaultCPUAllocator: not enough memory: you tried to allocate 1204224 bytes. Buy new RAM!\n"
     ]
    }
   ],
   "source": [
    "n_epoch = 20\n",
    "for epoch in range(1, n_epoch+1):           \n",
    "    D_losses, G_losses = [], []\n",
    "    d = list(enumerate(train_loader_front))\n",
    "    for batch_idx, x in enumerate(train_loader_profile):\n",
    "        y = d[batch_idx][1]\n",
    "        g_curr_loss, d_curr_loss = loss(x, y)\n",
    "        D_losses.append(D_train(x))\n",
    "        G_losses.append(G_train(x))\n",
    "\n",
    "    print('[%d/%d]: loss_d: %.3f, loss_g: %.3f' % (\n",
    "            (epoch), n_epoch, torch.mean(torch.FloatTensor(D_losses)), torch.mean(torch.FloatTensor(G_losses))))"
   ]
  },
  {
   "cell_type": "code",
   "execution_count": null,
   "metadata": {},
   "outputs": [],
   "source": []
  },
  {
   "cell_type": "code",
   "execution_count": null,
   "metadata": {},
   "outputs": [],
   "source": []
  }
 ],
 "metadata": {
  "kernelspec": {
   "display_name": "Python 3",
   "language": "python",
   "name": "python3"
  },
  "language_info": {
   "codemirror_mode": {
    "name": "ipython",
    "version": 3
   },
   "file_extension": ".py",
   "mimetype": "text/x-python",
   "name": "python",
   "nbconvert_exporter": "python",
   "pygments_lexer": "ipython3",
   "version": "3.7.4"
  }
 },
 "nbformat": 4,
 "nbformat_minor": 2
}
